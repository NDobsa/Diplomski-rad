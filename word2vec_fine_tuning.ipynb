{
  "cells": [
    {
      "cell_type": "markdown",
      "metadata": {
        "id": "sjmknj8G3IJ_"
      },
      "source": [
        "**Nina Dobša, zadnje uređivano 7.7.2025.**\n",
        "Kod je pisan i pokretan u google colab-u radi jačeg procesora\n"
      ]
    },
    {
      "cell_type": "code",
      "execution_count": null,
      "metadata": {
        "id": "A_CFVa1kRf8r"
      },
      "outputs": [],
      "source": [
        "!pip install datasets"
      ]
    },
    {
      "cell_type": "markdown",
      "metadata": {
        "id": "sc6ODpaW20ox"
      },
      "source": [
        "# Imports"
      ]
    },
    {
      "cell_type": "code",
      "execution_count": 9,
      "metadata": {
        "id": "x0KcsdZk1jb5"
      },
      "outputs": [],
      "source": [
        "from datasets import load_dataset, concatenate_datasets\n",
        "from gensim.models import Word2Vec\n",
        "from gensim.utils import simple_preprocess\n",
        "from google.colab import files\n",
        "import pandas as pd\n",
        "import multiprocessing\n",
        "import shutil\n",
        "import os"
      ]
    },
    {
      "cell_type": "markdown",
      "metadata": {
        "id": "a53biRA-14c9"
      },
      "source": [
        "# Emotion dataset "
      ]
    },
    {
      "cell_type": "code",
      "execution_count": 10,
      "metadata": {
        "colab": {
          "base_uri": "https://localhost:8080/"
        },
        "id": "EZ8EOXwH1xoF",
        "outputId": "69cdd0c9-b4d8-49cf-9f61-61fdb3d89bc1"
      },
      "outputs": [],
      "source": [
        "# Dataset import\n",
        "emotion_dataset = pd.read_parquet(\"hf://datasets/dair-ai/emotion/unsplit/train-00000-of-00001.parquet\")"
      ]
    },
    {
      "cell_type": "code",
      "execution_count": 4,
      "metadata": {
        "colab": {
          "base_uri": "https://localhost:8080/"
        },
        "id": "Nefkq3SLqdaB",
        "outputId": "02ea535f-acfe-4e02-d434-aaa4823580f6"
      },
      "outputs": [
        {
          "data": {
            "text/plain": [
              "(416809, 2)"
            ]
          },
          "execution_count": 4,
          "metadata": {},
          "output_type": "execute_result"
        }
      ],
      "source": [
        "# Number of rows and column in dataset (416 809 rows, 2 columns)\n",
        "emotion_dataset.shape"
      ]
    },
    {
      "cell_type": "code",
      "execution_count": 6,
      "metadata": {},
      "outputs": [
        {
          "data": {
            "text/html": [
              "<div>\n",
              "<style scoped>\n",
              "    .dataframe tbody tr th:only-of-type {\n",
              "        vertical-align: middle;\n",
              "    }\n",
              "\n",
              "    .dataframe tbody tr th {\n",
              "        vertical-align: top;\n",
              "    }\n",
              "\n",
              "    .dataframe thead th {\n",
              "        text-align: right;\n",
              "    }\n",
              "</style>\n",
              "<table border=\"1\" class=\"dataframe\">\n",
              "  <thead>\n",
              "    <tr style=\"text-align: right;\">\n",
              "      <th></th>\n",
              "      <th>text</th>\n",
              "      <th>label</th>\n",
              "    </tr>\n",
              "  </thead>\n",
              "  <tbody>\n",
              "    <tr>\n",
              "      <th>0</th>\n",
              "      <td>i feel awful about it too because it s my job ...</td>\n",
              "      <td>0</td>\n",
              "    </tr>\n",
              "    <tr>\n",
              "      <th>1</th>\n",
              "      <td>im alone i feel awful</td>\n",
              "      <td>0</td>\n",
              "    </tr>\n",
              "    <tr>\n",
              "      <th>2</th>\n",
              "      <td>ive probably mentioned this before but i reall...</td>\n",
              "      <td>1</td>\n",
              "    </tr>\n",
              "    <tr>\n",
              "      <th>3</th>\n",
              "      <td>i was feeling a little low few days back</td>\n",
              "      <td>0</td>\n",
              "    </tr>\n",
              "    <tr>\n",
              "      <th>4</th>\n",
              "      <td>i beleive that i am much more sensitive to oth...</td>\n",
              "      <td>2</td>\n",
              "    </tr>\n",
              "  </tbody>\n",
              "</table>\n",
              "</div>"
            ],
            "text/plain": [
              "                                                text  label\n",
              "0  i feel awful about it too because it s my job ...      0\n",
              "1                              im alone i feel awful      0\n",
              "2  ive probably mentioned this before but i reall...      1\n",
              "3           i was feeling a little low few days back      0\n",
              "4  i beleive that i am much more sensitive to oth...      2"
            ]
          },
          "execution_count": 6,
          "metadata": {},
          "output_type": "execute_result"
        }
      ],
      "source": [
        "# Printing first few rows of dataset\n",
        "emotion_dataset.head()"
      ]
    },
    {
      "cell_type": "code",
      "execution_count": null,
      "metadata": {
        "colab": {
          "base_uri": "https://localhost:8080/"
        },
        "id": "De5IcG6-2dec",
        "outputId": "53d77288-73b6-4fe2-eb65-15f8744d05ff"
      },
      "outputs": [
        {
          "name": "stdout",
          "output_type": "stream",
          "text": [
            "[['feel', 'awful', 'about', 'it', 'too', 'because', 'it', 'my', 'job', 'to', 'get', 'him', 'in', 'position', 'to', 'succeed', 'and', 'it', 'just', 'didn', 'happen', 'here'], ['im', 'alone', 'feel', 'awful'], ['ive', 'probably', 'mentioned', 'this', 'before', 'but', 'really', 'do', 'feel', 'proud', 'of', 'myself', 'for', 'actually', 'keeping', 'up', 'with', 'my', 'new', 'years', 'resolution', 'of', 'monthly', 'and', 'weekly', 'goals'], ['was', 'feeling', 'little', 'low', 'few', 'days', 'back'], ['beleive', 'that', 'am', 'much', 'more', 'sensitive', 'to', 'other', 'peoples', 'feelings', 'and', 'tend', 'to', 'be', 'more', 'compassionate']]\n"
          ]
        }
      ],
      "source": [
        "# Tokenization, length filtering, lowercasing\n",
        "tokenized_sentences = [simple_preprocess(sentence) for sentence in emotion_dataset[\"text\"]]\n",
        "print(tokenized_sentences[:5])"
      ]
    },
    {
      "cell_type": "markdown",
      "metadata": {
        "id": "8cLxdy4CQu4T"
      },
      "source": [
        "# Word2Vec fine tuning"
      ]
    },
    {
      "cell_type": "code",
      "execution_count": null,
      "metadata": {
        "id": "4qkb2jQhRClK"
      },
      "outputs": [],
      "source": [
        "# Fine tuning word2vec model\n",
        "word2vec_model = Word2Vec (\n",
        "    sentences=tokenized_sentences,        # Tokenized sentences\n",
        "    vector_size=300,                      # Dimension of embeddings\n",
        "    window=5,                             # Context window size\n",
        "    min_count=1,                          # Minimum word frequency to include in the model\n",
        "    workers=multiprocessing.cpu_count(),   # Number of CPU threads to use during training \n",
        "    #sg = 1                                # Skip gram for sg = 1, CBOW for sg = 0  (CBOW is by default)\n",
        ")"
      ]
    },
    {
      "cell_type": "markdown",
      "metadata": {},
      "source": [
        "... Code for fine tuning word2vec model was running for 20 min"
      ]
    },
    {
      "cell_type": "code",
      "execution_count": null,
      "metadata": {},
      "outputs": [],
      "source": [
        "# Saving model to google collab workspace\n",
        "word2vec_model.save(\"word2vec_model_CBOW.model\")"
      ]
    },
    {
      "cell_type": "code",
      "execution_count": null,
      "metadata": {
        "colab": {
          "base_uri": "https://localhost:8080/",
          "height": 17
        },
        "id": "hGOYNXpNsq28",
        "outputId": "499385fd-d0fe-4bcb-8c52-ab5727851e8e"
      },
      "outputs": [
        {
          "data": {
            "application/javascript": "\n    async function download(id, filename, size) {\n      if (!google.colab.kernel.accessAllowed) {\n        return;\n      }\n      const div = document.createElement('div');\n      const label = document.createElement('label');\n      label.textContent = `Downloading \"${filename}\": `;\n      div.appendChild(label);\n      const progress = document.createElement('progress');\n      progress.max = size;\n      div.appendChild(progress);\n      document.body.appendChild(div);\n\n      const buffers = [];\n      let downloaded = 0;\n\n      const channel = await google.colab.kernel.comms.open(id);\n      // Send a message to notify the kernel that we're ready.\n      channel.send({})\n\n      for await (const message of channel.messages) {\n        // Send a message to notify the kernel that we're ready.\n        channel.send({})\n        if (message.buffers) {\n          for (const buffer of message.buffers) {\n            buffers.push(buffer);\n            downloaded += buffer.byteLength;\n            progress.value = downloaded;\n          }\n        }\n      }\n      const blob = new Blob(buffers, {type: 'application/binary'});\n      const a = document.createElement('a');\n      a.href = window.URL.createObjectURL(blob);\n      a.download = filename;\n      div.appendChild(a);\n      a.click();\n      div.remove();\n    }\n  ",
            "text/plain": [
              "<IPython.core.display.Javascript object>"
            ]
          },
          "metadata": {},
          "output_type": "display_data"
        },
        {
          "data": {
            "application/javascript": "download(\"download_86aef851-af15-4f56-bd91-c41dde79d6a9\", \"fine_tuned_word2vec.zip\", 333675623)",
            "text/plain": [
              "<IPython.core.display.Javascript object>"
            ]
          },
          "metadata": {},
          "output_type": "display_data"
        }
      ],
      "source": [
        "# Saving the model to the local computer\n",
        "os.makedirs(\"/content/fine_tuned_word2vec\", exist_ok=True)\n",
        "\n",
        "word2vec_model.save(\"/content/fine_tuned_word2vec/fine_tuned_word2vec.model\")\n",
        "word2vec_model.wv.save(\"/content/fine_tuned_word2vec/fine_tuned_word2vec.kv\")\n",
        "word2vec_model.wv.save_word2vec_format(\"/content/fine_tuned_word2vec/fine_tuned_word2vec.bin\", binary=True)\n",
        "\n",
        "shutil.make_archive(\"/content/fine_tuned_word2vec\", 'zip', \"/content/fine_tuned_word2vec\")\n",
        "\n",
        "from google.colab import files\n",
        "files.download(\"/content/fine_tuned_word2vec.zip\")"
      ]
    }
  ],
  "metadata": {
    "colab": {
      "gpuType": "A100",
      "machine_shape": "hm",
      "provenance": []
    },
    "kernelspec": {
      "display_name": "Python 3",
      "name": "python3"
    },
    "language_info": {
      "codemirror_mode": {
        "name": "ipython",
        "version": 3
      },
      "file_extension": ".py",
      "mimetype": "text/x-python",
      "name": "python",
      "nbconvert_exporter": "python",
      "pygments_lexer": "ipython3",
      "version": "3.12.2"
    }
  },
  "nbformat": 4,
  "nbformat_minor": 0
}
