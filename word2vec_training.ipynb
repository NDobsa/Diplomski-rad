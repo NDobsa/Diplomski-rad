{
  "nbformat": 4,
  "nbformat_minor": 0,
  "metadata": {
    "colab": {
      "provenance": [],
      "machine_shape": "hm",
      "gpuType": "T4"
    },
    "kernelspec": {
      "name": "python3",
      "display_name": "Python 3"
    },
    "language_info": {
      "name": "python"
    },
    "accelerator": "GPU"
  },
  "cells": [
    {
      "cell_type": "markdown",
      "source": [
        "**Nina Dobša, zadnje uređivano 24.8.2025.**\n",
        "\n"
      ],
      "metadata": {
        "id": "sjmknj8G3IJ_"
      }
    },
    {
      "cell_type": "code",
      "source": [
        "#!pip install datasets\n",
        "#!pip install gensim\n",
        "#!pip install matplotlib"
      ],
      "metadata": {
        "id": "A_CFVa1kRf8r"
      },
      "execution_count": null,
      "outputs": []
    },
    {
      "cell_type": "markdown",
      "source": [
        "# Imports"
      ],
      "metadata": {
        "id": "sc6ODpaW20ox"
      }
    },
    {
      "cell_type": "code",
      "execution_count": null,
      "metadata": {
        "id": "x0KcsdZk1jb5"
      },
      "outputs": [],
      "source": [
        "from datasets import load_dataset, concatenate_datasets\n",
        "from gensim.models import Word2Vec\n",
        "from gensim.utils import simple_preprocess\n",
        "from google.colab import files\n",
        "from sklearn.model_selection import train_test_split\n",
        "import pandas as pd\n",
        "import multiprocessing\n",
        "import shutil\n",
        "import os\n",
        "from gensim.models.callbacks import CallbackAny2Vec\n",
        "import matplotlib.pyplot as plt\n",
        "from sklearn.linear_model import LogisticRegression\n",
        "from sklearn.metrics import accuracy_score, f1_score, roc_auc_score\n",
        "import numpy as np"
      ]
    },
    {
      "cell_type": "markdown",
      "source": [
        "# Emotion dataset import"
      ],
      "metadata": {
        "id": "a53biRA-14c9"
      }
    },
    {
      "cell_type": "code",
      "source": [
        "# Dataset import, the data will be used for model training\n",
        "emotion_dataset = pd.read_parquet(\"hf://datasets/dair-ai/emotion/unsplit/train-00000-of-00001.parquet\")"
      ],
      "metadata": {
        "id": "EZ8EOXwH1xoF",
        "colab": {
          "base_uri": "https://localhost:8080/"
        },
        "outputId": "3147e0be-d417-4bc4-faae-3f2944e68dde"
      },
      "execution_count": null,
      "outputs": [
        {
          "output_type": "stream",
          "name": "stderr",
          "text": [
            "/usr/local/lib/python3.12/dist-packages/huggingface_hub/utils/_auth.py:94: UserWarning: \n",
            "The secret `HF_TOKEN` does not exist in your Colab secrets.\n",
            "To authenticate with the Hugging Face Hub, create a token in your settings tab (https://huggingface.co/settings/tokens), set it as secret in your Google Colab and restart your session.\n",
            "You will be able to reuse this secret in all of your notebooks.\n",
            "Please note that authentication is recommended but still optional to access public models or datasets.\n",
            "  warnings.warn(\n"
          ]
        }
      ]
    },
    {
      "cell_type": "code",
      "source": [
        "emotion_dataset.shape"
      ],
      "metadata": {
        "colab": {
          "base_uri": "https://localhost:8080/"
        },
        "id": "Nefkq3SLqdaB",
        "outputId": "5885092f-b6d2-4ab5-893a-c3514f1db6f2"
      },
      "execution_count": null,
      "outputs": [
        {
          "output_type": "execute_result",
          "data": {
            "text/plain": [
              "(416809, 2)"
            ]
          },
          "metadata": {},
          "execution_count": 4
        }
      ]
    },
    {
      "cell_type": "code",
      "source": [
        "# Tokenization of sentences\n",
        "tokenized_sentences = [simple_preprocess(sentence) for sentence in emotion_dataset[\"text\"]]\n",
        "print(tokenized_sentences[:5])"
      ],
      "metadata": {
        "colab": {
          "base_uri": "https://localhost:8080/"
        },
        "id": "De5IcG6-2dec",
        "outputId": "cf175394-0839-40b6-8193-16349dcfd825"
      },
      "execution_count": null,
      "outputs": [
        {
          "output_type": "stream",
          "name": "stdout",
          "text": [
            "[['feel', 'awful', 'about', 'it', 'too', 'because', 'it', 'my', 'job', 'to', 'get', 'him', 'in', 'position', 'to', 'succeed', 'and', 'it', 'just', 'didn', 'happen', 'here'], ['im', 'alone', 'feel', 'awful'], ['ive', 'probably', 'mentioned', 'this', 'before', 'but', 'really', 'do', 'feel', 'proud', 'of', 'myself', 'for', 'actually', 'keeping', 'up', 'with', 'my', 'new', 'years', 'resolution', 'of', 'monthly', 'and', 'weekly', 'goals'], ['was', 'feeling', 'little', 'low', 'few', 'days', 'back'], ['beleive', 'that', 'am', 'much', 'more', 'sensitive', 'to', 'other', 'peoples', 'feelings', 'and', 'tend', 'to', 'be', 'more', 'compassionate']]\n"
          ]
        }
      ]
    },
    {
      "cell_type": "code",
      "source": [
        "# --- Callback for logging loss ---\n",
        "class LossLogger(CallbackAny2Vec):\n",
        "    def __init__(self):\n",
        "        self.epoch = 0\n",
        "        self.losses = []\n",
        "        self.previous_loss = 0\n",
        "\n",
        "    def on_epoch_end(self, model):\n",
        "        current_loss = model.get_latest_training_loss()\n",
        "        epoch_loss = current_loss - self.previous_loss\n",
        "        self.losses.append(epoch_loss)\n",
        "        self.previous_loss = current_loss\n",
        "        print(f\"Epoch {self.epoch+1} - Train Loss: {epoch_loss:.2f}\")\n",
        "        self.epoch += 1\n"
      ],
      "metadata": {
        "id": "CLTA76ModU49"
      },
      "execution_count": null,
      "outputs": []
    },
    {
      "cell_type": "markdown",
      "source": [
        "# Word2Vec fine tuning"
      ],
      "metadata": {
        "id": "8cLxdy4CQu4T"
      }
    },
    {
      "cell_type": "code",
      "source": [
        "# --- Training SG Word2Vec model in 15 epochs ---\n",
        "loss_logger_CBOW = LossLogger()\n",
        "\n",
        "word2vec_model_CBOW_15 = Word2Vec(\n",
        "    sentences=tokenized_sentences,\n",
        "    vector_size=300,\n",
        "    window=5,\n",
        "    min_count=1,\n",
        "    epochs = 15,\n",
        "    workers=multiprocessing.cpu_count(),\n",
        "    sg=0,           # CBOW\n",
        "    cbow_mean=0,    # sum of context vectors\n",
        "    compute_loss=True,\n",
        "    callbacks=[loss_logger_CBOW]\n",
        ")"
      ],
      "metadata": {
        "id": "4qkb2jQhRClK",
        "colab": {
          "base_uri": "https://localhost:8080/"
        },
        "outputId": "c75b54d2-b35f-4948-88c1-18991dbac44e"
      },
      "execution_count": null,
      "outputs": [
        {
          "output_type": "stream",
          "name": "stdout",
          "text": [
            "Epoch 1 - Train Loss: 1843306.25\n",
            "Epoch 2 - Train Loss: 1628120.50\n",
            "Epoch 3 - Train Loss: 1524575.75\n",
            "Epoch 4 - Train Loss: 1496320.50\n",
            "Epoch 5 - Train Loss: 1485868.50\n",
            "Epoch 6 - Train Loss: 1331610.50\n",
            "Epoch 7 - Train Loss: 1258448.00\n",
            "Epoch 8 - Train Loss: 1223759.00\n",
            "Epoch 9 - Train Loss: 1265783.00\n",
            "Epoch 10 - Train Loss: 1236198.00\n",
            "Epoch 11 - Train Loss: 1214908.00\n",
            "Epoch 12 - Train Loss: 1170219.00\n",
            "Epoch 13 - Train Loss: 923915.00\n",
            "Epoch 14 - Train Loss: 879740.00\n",
            "Epoch 15 - Train Loss: 767822.00\n"
          ]
        }
      ]
    },
    {
      "cell_type": "code",
      "source": [
        "word2vec_model_CBOW_15.save(\"CBOW_15.model\")"
      ],
      "metadata": {
        "id": "g9sqCECjqTBK"
      },
      "execution_count": null,
      "outputs": []
    },
    {
      "cell_type": "code",
      "source": [
        "plt.figure(figsize=(8,5))\n",
        "plt.plot(range(1, len(loss_logger_CBOW.losses)+1), loss_logger_CBOW.losses, marker='o', color='blue')\n",
        "plt.xlabel(\"Epoha\")\n",
        "plt.ylabel(\"Vrijednost funkcije gubitka\")\n",
        "plt.title(\"Word2Vec CBOW - Funkcija gubitka po epohama\")\n",
        "plt.grid(True)\n",
        "plt.show()"
      ],
      "metadata": {
        "colab": {
          "base_uri": "https://localhost:8080/",
          "height": 487
        },
        "id": "6kTGOtHRel58",
        "outputId": "6481954b-c5b0-4a17-a0d2-21fb05eaaf8c"
      },
      "execution_count": null,
      "outputs": [
        {
          "output_type": "display_data",
          "data": {
            "text/plain": [
              "<Figure size 800x500 with 1 Axes>"
            ],
            "image/png": "[encoded data removed]"
          },
          "metadata": {}
        }
      ]
    },
    {
      "cell_type": "code",
      "source": [
        "# --- Training CBOW Word2Vec model in 10 epochs ---\n",
        "loss_logger_CBOW = LossLogger()\n",
        "\n",
        "word2vec_model_CBOW_10 = Word2Vec(\n",
        "    sentences=tokenized_sentences,\n",
        "    vector_size=300,\n",
        "    window=5,\n",
        "    min_count=1,\n",
        "    epochs = 10,\n",
        "    workers=multiprocessing.cpu_count(),\n",
        "    sg=0,           # CBOW\n",
        "    cbow_mean=0,    # sum of context vectors\n",
        "    compute_loss=True,\n",
        "    callbacks=[loss_logger_CBOW]\n",
        ")\n",
        "\n",
        "word2vec_model_CBOW_10.save(\"CBOW_10.model\")"
      ],
      "metadata": {
        "colab": {
          "base_uri": "https://localhost:8080/"
        },
        "id": "-1eclLw0rTD9",
        "outputId": "862ec477-18e2-4660-89e1-9cabe3fd3c19"
      },
      "execution_count": null,
      "outputs": [
        {
          "output_type": "stream",
          "name": "stdout",
          "text": [
            "Epoch 1 - Train Loss: 1796369.50\n",
            "Epoch 2 - Train Loss: 1627421.25\n",
            "Epoch 3 - Train Loss: 1557914.25\n",
            "Epoch 4 - Train Loss: 1487336.00\n",
            "Epoch 5 - Train Loss: 1446392.50\n",
            "Epoch 6 - Train Loss: 1320733.50\n",
            "Epoch 7 - Train Loss: 1273056.00\n",
            "Epoch 8 - Train Loss: 1248711.00\n",
            "Epoch 9 - Train Loss: 1151016.00\n",
            "Epoch 10 - Train Loss: 1109523.00\n"
          ]
        }
      ]
    },
    {
      "cell_type": "code",
      "source": [
        "# --- Training CBOW Word2Vec model in 5 epochs ---\n",
        "loss_logger_CBOW = LossLogger()\n",
        "\n",
        "word2vec_model_CBOW_5 = Word2Vec(\n",
        "    sentences=tokenized_sentences,\n",
        "    vector_size=300,\n",
        "    window=5,\n",
        "    min_count=1,\n",
        "    epochs = 5,\n",
        "    workers=multiprocessing.cpu_count(),\n",
        "    sg=0,           # CBOW\n",
        "    cbow_mean=0,    # sum of context vectors\n",
        "    compute_loss=True,\n",
        "    callbacks=[loss_logger_CBOW]\n",
        ")\n",
        "\n",
        "word2vec_model_CBOW_5.save(\"CBOW_5.model\")"
      ],
      "metadata": {
        "colab": {
          "base_uri": "https://localhost:8080/"
        },
        "id": "nWtM6ZSzrbOL",
        "outputId": "81ca04aa-2503-436b-dbf2-2d64a408a208"
      },
      "execution_count": null,
      "outputs": [
        {
          "output_type": "stream",
          "name": "stdout",
          "text": [
            "Epoch 1 - Train Loss: 1796030.88\n",
            "Epoch 2 - Train Loss: 1625005.88\n",
            "Epoch 3 - Train Loss: 1492256.75\n",
            "Epoch 4 - Train Loss: 1449847.00\n",
            "Epoch 5 - Train Loss: 1411767.00\n"
          ]
        }
      ]
    },
    {
      "cell_type": "code",
      "source": [
        "# --- Training SG Word2Vec model in 15 epochs ---\n",
        "loss_logger_SG = LossLogger()\n",
        "\n",
        "word2vec_model_SG_15 = Word2Vec(\n",
        "    sentences=tokenized_sentences,\n",
        "    vector_size=300,\n",
        "    window=5,\n",
        "    epochs = 15,\n",
        "    min_count=1,\n",
        "    workers=multiprocessing.cpu_count(),\n",
        "    sg=1,           # Skip-Gram\n",
        "    compute_loss=True,\n",
        "    callbacks=[loss_logger_SG]\n",
        ")"
      ],
      "metadata": {
        "colab": {
          "base_uri": "https://localhost:8080/"
        },
        "id": "xNe55HArcCbA",
        "outputId": "bd6f51dc-51fa-498f-d02a-bd44d6cf3ee0"
      },
      "execution_count": null,
      "outputs": [
        {
          "output_type": "stream",
          "name": "stdout",
          "text": [
            "Epoch 1 - Train Loss: 7666178.50\n",
            "Epoch 2 - Train Loss: 5886666.50\n",
            "Epoch 3 - Train Loss: 5465031.00\n",
            "Epoch 4 - Train Loss: 5247566.00\n",
            "Epoch 5 - Train Loss: 5165358.00\n",
            "Epoch 6 - Train Loss: 4718216.00\n",
            "Epoch 7 - Train Loss: 2854028.00\n",
            "Epoch 8 - Train Loss: 2761824.00\n",
            "Epoch 9 - Train Loss: 2758456.00\n",
            "Epoch 10 - Train Loss: 2752776.00\n",
            "Epoch 11 - Train Loss: 2637940.00\n",
            "Epoch 12 - Train Loss: 2596364.00\n",
            "Epoch 13 - Train Loss: 2541308.00\n",
            "Epoch 14 - Train Loss: 2474376.00\n",
            "Epoch 15 - Train Loss: 2358852.00\n"
          ]
        }
      ]
    },
    {
      "cell_type": "code",
      "source": [
        "word2vec_model_SG_15.save(\"SG_15.model\")"
      ],
      "metadata": {
        "id": "_ZcbpZX1qlVB"
      },
      "execution_count": null,
      "outputs": []
    },
    {
      "cell_type": "code",
      "source": [
        "plt.figure(figsize=(8,5))\n",
        "plt.plot(range(1, len(loss_logger_SG.losses)+1), loss_logger_SG.losses, marker='o', color='blue')\n",
        "plt.xlabel(\"Epoha\")\n",
        "plt.ylabel(\"Vrijednost funkcije gubitka\")\n",
        "plt.title(\"Word2Vec SG - Funkcija gubitka po epohama\")\n",
        "plt.grid(True)\n",
        "plt.show()"
      ],
      "metadata": {
        "colab": {
          "base_uri": "https://localhost:8080/",
          "height": 487
        },
        "id": "GwwFFb1VeJ_6",
        "outputId": "6d90a9e1-2b90-427b-9e72-e7398b11016a"
      },
      "execution_count": null,
      "outputs": [
        {
          "output_type": "display_data",
          "data": {
            "text/plain": [
              "<Figure size 800x500 with 1 Axes>"
            ],
            "image/png": "[encoded data removed]"
          },
          "metadata": {}
        }
      ]
    },
    {
      "cell_type": "code",
      "source": [
        "# --- Training SG Word2Vec model in 10 epochs ---\n",
        "loss_logger_SG = LossLogger()\n",
        "\n",
        "word2vec_model_SG_10 = Word2Vec(\n",
        "    sentences=tokenized_sentences,\n",
        "    vector_size=300,\n",
        "    window=5,\n",
        "    epochs = 10,\n",
        "    min_count=1,\n",
        "    workers=multiprocessing.cpu_count(),\n",
        "    sg=1,           # Skip-Gram\n",
        "    compute_loss=True,\n",
        "    callbacks=[loss_logger_SG]\n",
        ")\n",
        "\n",
        "word2vec_model_SG_10.save(\"SG_10.model\")"
      ],
      "metadata": {
        "colab": {
          "base_uri": "https://localhost:8080/"
        },
        "id": "ifRtB-E-rfqU",
        "outputId": "b075c0ff-102b-41c1-d775-8d4f6550ec6b"
      },
      "execution_count": null,
      "outputs": [
        {
          "output_type": "stream",
          "name": "stdout",
          "text": [
            "Epoch 1 - Train Loss: 7701040.50\n",
            "Epoch 2 - Train Loss: 5717101.50\n",
            "Epoch 3 - Train Loss: 5403986.00\n",
            "Epoch 4 - Train Loss: 5181788.00\n",
            "Epoch 5 - Train Loss: 5178808.00\n",
            "Epoch 6 - Train Loss: 4786840.00\n",
            "Epoch 7 - Train Loss: 2777364.00\n",
            "Epoch 8 - Train Loss: 2712972.00\n",
            "Epoch 9 - Train Loss: 2599696.00\n",
            "Epoch 10 - Train Loss: 2488464.00\n"
          ]
        }
      ]
    },
    {
      "cell_type": "code",
      "source": [
        "# --- Training SG Word2Vec model in 5 epochs ---\n",
        "loss_logger_SG = LossLogger()\n",
        "\n",
        "word2vec_model_SG_5 = Word2Vec(\n",
        "    sentences=tokenized_sentences,\n",
        "    vector_size=300,\n",
        "    window=5,\n",
        "    epochs = 5,\n",
        "    min_count=1,\n",
        "    workers=multiprocessing.cpu_count(),\n",
        "    sg=1,           # Skip-Gram\n",
        "    compute_loss=True,\n",
        "    callbacks=[loss_logger_SG]\n",
        ")\n",
        "\n",
        "word2vec_model_SG_5.save(\"SG_5.model\")"
      ],
      "metadata": {
        "colab": {
          "base_uri": "https://localhost:8080/"
        },
        "id": "O_X03PFlrgdT",
        "outputId": "b4cd7b41-6daf-4e44-d73d-dcea23d5ba38"
      },
      "execution_count": null,
      "outputs": [
        {
          "output_type": "stream",
          "name": "stdout",
          "text": [
            "Epoch 1 - Train Loss: 7536857.50\n",
            "Epoch 2 - Train Loss: 5930847.50\n",
            "Epoch 3 - Train Loss: 5505921.00\n",
            "Epoch 4 - Train Loss: 5145624.00\n",
            "Epoch 5 - Train Loss: 5245410.00\n"
          ]
        }
      ]
    },
    {
      "cell_type": "code",
      "source": [
        "# Connecting with google drive where fine tuned models are stored\n",
        "from google.colab import drive\n",
        "drive.mount('/content/drive')"
      ],
      "metadata": {
        "colab": {
          "base_uri": "https://localhost:8080/"
        },
        "id": "fRtm0pWvusXN",
        "outputId": "82768a80-a4f2-4b3e-b435-4f7ed6b2d591"
      },
      "execution_count": null,
      "outputs": [
        {
          "output_type": "stream",
          "name": "stdout",
          "text": [
            "Mounted at /content/drive\n"
          ]
        }
      ]
    },
    {
      "cell_type": "code",
      "source": [
        "# Import of NRC data from local file\n",
        "emotion_lexicon = pd.read_excel(\"/content/drive/My Drive/data/NRC-Emotion-Lexicon-v0.92-In105Languages-Nov2017Translations.xlsx\", sheet_name=\"NRC-Lex-v0.92-word-translations\")\n",
        "# Printing number of rows and columns in emotion lexicon\n",
        "emotion_lexicon.shape"
      ],
      "metadata": {
        "colab": {
          "base_uri": "https://localhost:8080/"
        },
        "id": "ip3HjuwNeSca",
        "outputId": "74ce84a1-7bfe-4374-a432-946848d49dfc"
      },
      "execution_count": null,
      "outputs": [
        {
          "output_type": "execute_result",
          "data": {
            "text/plain": [
              "(14182, 115)"
            ]
          },
          "metadata": {},
          "execution_count": 20
        }
      ]
    },
    {
      "cell_type": "code",
      "source": [
        "emotion_lexicon.columns"
      ],
      "metadata": {
        "colab": {
          "base_uri": "https://localhost:8080/"
        },
        "id": "MlSYBM84vET4",
        "outputId": "753292ae-fcf5-4134-f261-cc567a509fa5"
      },
      "execution_count": null,
      "outputs": [
        {
          "output_type": "execute_result",
          "data": {
            "text/plain": [
              "Index(['English (en)', 'Afrikaans (af)', 'Albanian (sq)', 'Amharic (am)',\n",
              "       'Arabic (ar)', 'Armenian (hy)', 'Azeerbaijani (az)', 'Basque (eu)',\n",
              "       'Belarusian (be)', 'Bengali (bn)',\n",
              "       ...\n",
              "       'Positive', 'Negative', 'Anger', 'Anticipation', 'Disgust', 'Fear',\n",
              "       'Joy', 'Sadness', 'Surprise', 'Trust'],\n",
              "      dtype='object', length=115)"
            ]
          },
          "metadata": {},
          "execution_count": 21
        }
      ]
    },
    {
      "cell_type": "code",
      "source": [
        "SG_5 = Word2Vec.load(\"SG_5.model\")\n",
        "SG_10 = Word2Vec.load(\"SG_10.model\")\n",
        "SG_15 = Word2Vec.load(\"SG_15.model\")\n",
        "CBOW_5 = Word2Vec.load(\"CBOW_5.model\")\n",
        "CBOW_10 = Word2Vec.load(\"CBOW_10.model\")\n",
        "CBOW_15 = Word2Vec.load(\"CBOW_15.model\")"
      ],
      "metadata": {
        "id": "SSmugp_2uXVe"
      },
      "execution_count": null,
      "outputs": []
    },
    {
      "cell_type": "code",
      "source": [
        "def filter_vocab(lexicon, model):\n",
        "    return lexicon[lexicon['English (en)'].isin(model.wv.key_to_index)]\n",
        "\n",
        "filtered_lexicon_sg = filter_vocab(emotion_lexicon, SG_15)\n",
        "filtered_lexicon_cbow = filter_vocab(emotion_lexicon, CBOW_15)"
      ],
      "metadata": {
        "id": "XyQw--vxg_bs"
      },
      "execution_count": null,
      "outputs": []
    },
    {
      "cell_type": "code",
      "source": [
        "def get_embeddings(words, model):\n",
        "    return np.array([model.wv[word] for word in words])"
      ],
      "metadata": {
        "id": "NsrA07CPhJG1"
      },
      "execution_count": null,
      "outputs": []
    },
    {
      "cell_type": "code",
      "source": [
        "X_sg_5 = get_embeddings(filtered_lexicon_sg['English (en)'], SG_5)\n",
        "X_cbow_5 = get_embeddings(filtered_lexicon_cbow['English (en)'], CBOW_5)\n",
        "X_sg_10 = get_embeddings(filtered_lexicon_sg['English (en)'], SG_10)\n",
        "X_cbow_10 = get_embeddings(filtered_lexicon_cbow['English (en)'], CBOW_10)\n",
        "X_sg_15 = get_embeddings(filtered_lexicon_sg['English (en)'], SG_15)\n",
        "X_cbow_15 = get_embeddings(filtered_lexicon_cbow['English (en)'], CBOW_15)\n",
        "\n",
        "y_sg = filtered_lexicon_sg['Anger'].values\n",
        "y_cbow = filtered_lexicon_cbow['Anger'].values"
      ],
      "metadata": {
        "id": "AaPGSxb7hOpZ"
      },
      "execution_count": null,
      "outputs": []
    },
    {
      "cell_type": "code",
      "source": [
        "def classify_embeddings(X, y):\n",
        "    X_train, X_test, y_train, y_test = train_test_split(X, y, test_size=0.2, random_state=42)\n",
        "    clf = LogisticRegression(max_iter=1000)\n",
        "    clf.fit(X_train, y_train)\n",
        "    y_pred = clf.predict(X_test)\n",
        "    y_proba = clf.predict_proba(X_test)[:,1]\n",
        "    return accuracy_score(y_test, y_pred), f1_score(y_test, y_pred), roc_auc_score(y_test, y_proba)"
      ],
      "metadata": {
        "id": "H9M2oWTrhr9E"
      },
      "execution_count": null,
      "outputs": []
    },
    {
      "cell_type": "code",
      "source": [
        "acc_sg_5, f1_sg_5, roc_sg_5 = classify_embeddings(X_sg_5, y_sg)\n",
        "acc_sg_10, f1_sg_10, roc_sg_10 = classify_embeddings(X_sg_10, y_sg)\n",
        "acc_sg_15, f1_sg_15, roc_sg_15 = classify_embeddings(X_sg_15, y_sg)\n",
        "\n",
        "acc_cbow_5, f1_cbow_5, roc_cbow_5 = classify_embeddings(X_cbow_5, y_cbow)\n",
        "acc_cbow_10, f1_cbow_10, roc_cbow_10 = classify_embeddings(X_cbow_10, y_cbow)\n",
        "acc_cbow_15, f1_cbow_15, roc_cbow_15 = classify_embeddings(X_cbow_15, y_cbow)\n",
        "\n",
        "print(f\"SG 5 epochs - Accuracy: {acc_sg_5:.4f}, F1: {f1_sg_5:.4f}, ROC AUC: {roc_sg_5:.4f}\")\n",
        "print(f\"SG 10 epochs - Accuracy: {acc_sg_10:.4f}, F1: {f1_sg_10:.4f}, ROC AUC: {roc_sg_10:.4f}\")\n",
        "print(f\"SG 15 epochs - Accuracy: {acc_sg_15:.4f}, F1: {f1_sg_15:.4f}, ROC AUC: {roc_sg_15:.4f}\")\n",
        "\n",
        "print(f\"CBOW 5 epochs - Accuracy: {acc_cbow_5:.4f}, F1: {f1_cbow_5:.4f}, ROC AUC: {roc_cbow_5:.4f}\")\n",
        "print(f\"CBOW 10 epochs - Accuracy: {acc_cbow_10:.4f}, F1: {f1_cbow_10:.4f}, ROC AUC: {roc_cbow_10:.4f}\")\n",
        "print(f\"CBOW 15 epochs - Accuracy: {acc_cbow_15:.4f}, F1: {f1_cbow_15:.4f}, ROC AUC: {roc_cbow_15:.4f}\")"
      ],
      "metadata": {
        "colab": {
          "base_uri": "https://localhost:8080/"
        },
        "id": "1RH4bFhbiEvJ",
        "outputId": "3f8fe6fe-6317-4e7a-e5a6-507d45256b5f"
      },
      "execution_count": null,
      "outputs": [
        {
          "output_type": "stream",
          "name": "stdout",
          "text": [
            "SG 5 epochs - Accuracy: 0.9123, F1: 0.2166, ROC AUC: 0.7377\n",
            "SG 10 epochs - Accuracy: 0.9086, F1: 0.2313, ROC AUC: 0.7504\n",
            "SG 15 epochs - Accuracy: 0.9114, F1: 0.2474, ROC AUC: 0.7563\n",
            "CBOW 5 epochs - Accuracy: 0.9102, F1: 0.0750, ROC AUC: 0.6959\n",
            "CBOW 10 epochs - Accuracy: 0.9106, F1: 0.1053, ROC AUC: 0.7153\n",
            "CBOW 15 epochs - Accuracy: 0.9114, F1: 0.1344, ROC AUC: 0.7237\n"
          ]
        }
      ]
    },
    {
      "cell_type": "code",
      "source": [
        "# Connecting with google drive where fine tuned / trained models are stored\n",
        "\n",
        "cbow_path = '/content/drive/MyDrive/modeli/CBOW_10.model'\n",
        "sg_path   = '/content/drive/MyDrive/modeli/SG_15.model'\n",
        "\n",
        "CBOW_10.save(cbow_path)\n",
        "SG_15.save(sg_path)"
      ],
      "metadata": {
        "id": "8eHLBu6Kzc3t"
      },
      "execution_count": null,
      "outputs": []
    }
  ]
}