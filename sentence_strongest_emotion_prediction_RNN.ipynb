{
  "cells": [
    {
      "cell_type": "markdown",
      "id": "3008abd3",
      "metadata": {
        "id": "3008abd3"
      },
      "source": [
        "**Nina Dobša, zadnje mijenjano 28.7.2025.**\n",
        "\n",
        "> Dodaj oznaku dugog citata\n",
        "\n"
      ]
    },
    {
      "cell_type": "markdown",
      "id": "09e15e66",
      "metadata": {
        "id": "09e15e66"
      },
      "source": [
        "# Imports"
      ]
    },
    {
      "cell_type": "code",
      "source": [
        "%pip install gensim"
      ],
      "metadata": {
        "colab": {
          "base_uri": "https://localhost:8080/"
        },
        "id": "J6yV_qZlJRbx",
        "outputId": "a3850a26-3dce-4736-f00e-2649e562c3f4"
      },
      "id": "J6yV_qZlJRbx",
      "execution_count": null,
      "outputs": [
        {
          "metadata": {
            "tags": null
          },
          "name": "stdout",
          "output_type": "stream",
          "text": [
            "Collecting gensim\n",
            "  Downloading gensim-4.3.3-cp312-cp312-manylinux_2_17_x86_64.manylinux2014_x86_64.whl.metadata (8.1 kB)\n",
            "Collecting numpy<2.0,>=1.18.5 (from gensim)\n",
            "  Downloading numpy-1.26.4-cp312-cp312-manylinux_2_17_x86_64.manylinux2014_x86_64.whl.metadata (61 kB)\n",
            "\u001b[2K     \u001b[90m━━━━━━━━━━━━━━━━━━━━━━━━━━━━━━━━━━━━━━━━\u001b[0m \u001b[32m61.0/61.0 kB\u001b[0m \u001b[31m5.6 MB/s\u001b[0m eta \u001b[36m0:00:00\u001b[0m\n",
            "\u001b[?25hCollecting scipy<1.14.0,>=1.7.0 (from gensim)\n",
            "  Downloading scipy-1.13.1-cp312-cp312-manylinux_2_17_x86_64.manylinux2014_x86_64.whl.metadata (60 kB)\n",
            "\u001b[2K     \u001b[90m━━━━━━━━━━━━━━━━━━━━━━━━━━━━━━━━━━━━━━━━\u001b[0m \u001b[32m60.6/60.6 kB\u001b[0m \u001b[31m5.1 MB/s\u001b[0m eta \u001b[36m0:00:00\u001b[0m\n",
            "\u001b[?25hRequirement already satisfied: smart-open>=1.8.1 in /usr/local/lib/python3.12/dist-packages (from gensim) (7.3.0.post1)\n",
            "Requirement already satisfied: wrapt in /usr/local/lib/python3.12/dist-packages (from smart-open>=1.8.1->gensim) (1.17.3)\n",
            "Downloading gensim-4.3.3-cp312-cp312-manylinux_2_17_x86_64.manylinux2014_x86_64.whl (26.6 MB)\n",
            "\u001b[2K   \u001b[90m━━━━━━━━━━━━━━━━━━━━━━━━━━━━━━━━━━━━━━━━\u001b[0m \u001b[32m26.6/26.6 MB\u001b[0m \u001b[31m83.4 MB/s\u001b[0m eta \u001b[36m0:00:00\u001b[0m\n",
            "\u001b[?25hDownloading numpy-1.26.4-cp312-cp312-manylinux_2_17_x86_64.manylinux2014_x86_64.whl (18.0 MB)\n",
            "\u001b[2K   \u001b[90m━━━━━━━━━━━━━━━━━━━━━━━━━━━━━━━━━━━━━━━━\u001b[0m \u001b[32m18.0/18.0 MB\u001b[0m \u001b[31m79.4 MB/s\u001b[0m eta \u001b[36m0:00:00\u001b[0m\n",
            "\u001b[?25hDownloading scipy-1.13.1-cp312-cp312-manylinux_2_17_x86_64.manylinux2014_x86_64.whl (38.2 MB)\n",
            "\u001b[2K   \u001b[90m━━━━━━━━━━━━━━━━━━━━━━━━━━━━━━━━━━━━━━━━\u001b[0m \u001b[32m38.2/38.2 MB\u001b[0m \u001b[31m61.4 MB/s\u001b[0m eta \u001b[36m0:00:00\u001b[0m\n",
            "\u001b[?25hInstalling collected packages: numpy, scipy, gensim\n",
            "  Attempting uninstall: numpy\n",
            "    Found existing installation: numpy 2.0.2\n",
            "    Uninstalling numpy-2.0.2:\n",
            "      Successfully uninstalled numpy-2.0.2\n",
            "  Attempting uninstall: scipy\n",
            "    Found existing installation: scipy 1.16.1\n",
            "    Uninstalling scipy-1.16.1:\n",
            "      Successfully uninstalled scipy-1.16.1\n",
            "^C\n"
          ]
        }
      ]
    },
    {
      "cell_type": "code",
      "execution_count": null,
      "id": "7fa1ad7b",
      "metadata": {
        "id": "7fa1ad7b"
      },
      "outputs": [],
      "source": [
        "import pandas as pd\n",
        "import numpy as np\n",
        "from sklearn.model_selection import StratifiedKFold\n",
        "from tensorflow.keras.models import Sequential\n",
        "from tensorflow.keras.layers import LSTM, Dense, Dropout, Bidirectional, Input\n",
        "from tensorflow.keras.preprocessing.sequence import pad_sequences\n",
        "from tensorflow.keras.utils import to_categorical\n",
        "from tensorflow.keras.backend import clear_session\n",
        "from tensorflow.keras.callbacks import EarlyStopping\n",
        "from sklearn.preprocessing import LabelEncoder\n",
        "from gensim.models import Word2Vec\n",
        "from transformers import BertTokenizer, BertForMaskedLM, BertForSequenceClassification\n",
        "import torch\n",
        "from sklearn.metrics import accuracy_score, precision_score, recall_score, f1_score, roc_auc_score, confusion_matrix\n",
        "import matplotlib.pyplot as plt\n",
        "import seaborn as sns"
      ]
    },
    {
      "cell_type": "code",
      "source": [
        "# Connecting with google drive where fine tuned models are stored\n",
        "from google.colab import drive\n",
        "drive.mount('/content/drive')"
      ],
      "metadata": {
        "colab": {
          "base_uri": "https://localhost:8080/"
        },
        "id": "HKXMzjRALI-C",
        "outputId": "ea23a0e2-af7c-49cd-af37-6fd56f4e7073"
      },
      "id": "HKXMzjRALI-C",
      "execution_count": null,
      "outputs": [
        {
          "output_type": "stream",
          "name": "stdout",
          "text": [
            "Drive already mounted at /content/drive; to attempt to forcibly remount, call drive.mount(\"/content/drive\", force_remount=True).\n"
          ]
        }
      ]
    },
    {
      "cell_type": "code",
      "execution_count": null,
      "id": "b1f1fc99",
      "metadata": {
        "colab": {
          "base_uri": "https://localhost:8080/"
        },
        "id": "b1f1fc99",
        "outputId": "63bcd29c-256a-4ea4-803f-1e15b662a399"
      },
      "outputs": [
        {
          "output_type": "execute_result",
          "data": {
            "text/plain": [
              "(7505, 2)"
            ]
          },
          "metadata": {},
          "execution_count": 31
        }
      ],
      "source": [
        "# Uploading ISEAR data\n",
        "file_path = \"/content/drive/My Drive/data/isear_3.txt\"\n",
        "ISEAR_data = pd.read_csv(file_path, delimiter=\"|\", header=0, on_bad_lines=\"skip\", engine=\"python\")\n",
        "\n",
        "# Select only Emotion and Text columns from original dataset\n",
        "ISEAR_data = ISEAR_data[['SIT', 'Field1']]\n",
        "ISEAR_data.columns = ['text', 'emotion']\n",
        "ISEAR_data.shape"
      ]
    },
    {
      "cell_type": "code",
      "execution_count": null,
      "id": "aa15e2c1",
      "metadata": {
        "colab": {
          "base_uri": "https://localhost:8080/"
        },
        "id": "aa15e2c1",
        "outputId": "a40759bf-30ed-460b-fe9c-ad238de0ff7f"
      },
      "outputs": [
        {
          "output_type": "stream",
          "name": "stdout",
          "text": [
            "{'anger': 0, 'disgust': 1, 'fear': 2, 'guilt': 3, 'joy': 4, 'sadness': 5, 'shame': 6}\n"
          ]
        }
      ],
      "source": [
        "# Encoding emotions (from words to numbers)\n",
        "label_encoder = LabelEncoder()\n",
        "ISEAR_data['emotion_label'] = label_encoder.fit_transform(ISEAR_data['emotion'])\n",
        "print(dict(zip(label_encoder.classes_, label_encoder.transform(label_encoder.classes_))))"
      ]
    },
    {
      "cell_type": "code",
      "execution_count": null,
      "id": "3eabb55f",
      "metadata": {
        "id": "3eabb55f"
      },
      "outputs": [],
      "source": [
        "# Defining number of classes and length of the sequence (if the sentence is shorter padding will be added)\n",
        "num_classes = 7\n",
        "max_sequence_length = 30"
      ]
    },
    {
      "cell_type": "code",
      "execution_count": null,
      "id": "bc2a375d",
      "metadata": {
        "colab": {
          "base_uri": "https://localhost:8080/",
          "height": 564
        },
        "id": "bc2a375d",
        "outputId": "2281873c-d26c-441d-d6f3-c876466f48a1"
      },
      "outputs": [
        {
          "output_type": "display_data",
          "data": {
            "text/plain": [
              "<Figure size 800x600 with 1 Axes>"
            ],
            "image/png": "[encoded data removed]"
          },
          "metadata": {}
        }
      ],
      "source": [
        "# Visualization of class distribution\n",
        "plt.figure(figsize=(8, 6))\n",
        "sns.countplot(x='emotion_label', data=ISEAR_data)\n",
        "plt.title('Distribucija klasa u ISEAR skupu podataka')\n",
        "plt.xlabel('Klasa')\n",
        "plt.ylabel('Broj uzoraka')\n",
        "plt.show()"
      ]
    },
    {
      "cell_type": "markdown",
      "id": "9a1785f5",
      "metadata": {
        "id": "9a1785f5"
      },
      "source": [
        "Classes are balanced..."
      ]
    },
    {
      "cell_type": "markdown",
      "id": "09f5c618",
      "metadata": {
        "id": "09f5c618"
      },
      "source": [
        "# Word2Vec Embeddings"
      ]
    },
    {
      "cell_type": "code",
      "execution_count": null,
      "id": "5c9d0b62",
      "metadata": {
        "id": "5c9d0b62"
      },
      "outputs": [],
      "source": [
        "# Import of fine tuned word2vec model\n",
        "model_path_SG = \"/content/drive/My Drive/modeli/SG_15/SG_15.model\"\n",
        "model_path_CBOW = \"/content/drive/My Drive/modeli/CBOW_10/CBOW_10.model\"\n",
        "word2vec_model_SG = Word2Vec.load(model_path_SG)\n",
        "word2vec_model_CBOW = Word2Vec.load(model_path_CBOW)\n",
        "\n",
        "embedding_dim_SG = word2vec_model_SG.vector_size\n",
        "embedding_dim_CBOW = word2vec_model_CBOW.vector_size"
      ]
    },
    {
      "cell_type": "code",
      "execution_count": null,
      "id": "64a86909",
      "metadata": {
        "id": "64a86909"
      },
      "outputs": [],
      "source": [
        "# Function for getting word2vec embeddings\n",
        "def get_word2vec_embeddings(sentence, model):\n",
        "    # Tokenization\n",
        "    sentence = sentence.lower()\n",
        "    words = sentence.split()\n",
        "    word_embeddings = [model.wv[word] for word in words if word in model.wv]\n",
        "\n",
        "    if not word_embeddings:  # If no words are in the vocabulary, return a zero vector\n",
        "        return []\n",
        "\n",
        "    return word_embeddings"
      ]
    },
    {
      "cell_type": "code",
      "execution_count": null,
      "id": "8467d1af",
      "metadata": {
        "id": "8467d1af"
      },
      "outputs": [],
      "source": [
        "# Getting word2vec embeddings for each word in the sentence\n",
        "list_of_embeddings_CBOW = [\n",
        "   get_word2vec_embeddings(text, word2vec_model_CBOW)\n",
        "    for text in ISEAR_data['text']\n",
        "]\n",
        "\n",
        "list_of_embeddings_SG = [\n",
        "   get_word2vec_embeddings(text, word2vec_model_SG)\n",
        "    for text in ISEAR_data['text']\n",
        "]"
      ]
    },
    {
      "cell_type": "code",
      "execution_count": null,
      "id": "41ffb79a",
      "metadata": {
        "id": "41ffb79a"
      },
      "outputs": [],
      "source": [
        "# Padding sequences to the same length -> adding zeroes to the sequences shorter than embedding_dim and cutting sequences longer than embedding_dim\n",
        "# Converting to NumPy array\n",
        "embeddings_CBOW = pad_sequences(\n",
        "    list_of_embeddings_CBOW,\n",
        "    maxlen = max_sequence_length,\n",
        "    dtype = 'float32',\n",
        "    padding = 'post',\n",
        "    truncating = 'post'\n",
        ")\n",
        "\n",
        "# print(embeddings_CBOW)"
      ]
    },
    {
      "cell_type": "code",
      "execution_count": null,
      "id": "3fb574db",
      "metadata": {
        "id": "3fb574db"
      },
      "outputs": [],
      "source": [
        "# Padding sequences to the same length -> adding zeroes to the sequences shorter than embedding_dim and cutting sequences longer than embedding_dim\n",
        "# Converting to NumPy array\n",
        "embeddings_SG = pad_sequences(\n",
        "    list_of_embeddings_SG,\n",
        "    maxlen = max_sequence_length,\n",
        "    dtype = 'float32',\n",
        "    padding = 'post',\n",
        "    truncating = 'post'\n",
        ")\n",
        "\n",
        "# print(embeddings_SG)"
      ]
    },
    {
      "cell_type": "code",
      "execution_count": null,
      "id": "622b2489",
      "metadata": {
        "colab": {
          "base_uri": "https://localhost:8080/"
        },
        "id": "622b2489",
        "outputId": "d3a98956-4b97-4979-b482-3d4b8686ef51"
      },
      "outputs": [
        {
          "output_type": "stream",
          "name": "stdout",
          "text": [
            "Dimensions of embeddings_CBOW: (7505, 30, 300)\n",
            "Dimensions of embeddings_SG: (7505, 30, 300)\n",
            "Dimensions of target value: (7505, 7)\n"
          ]
        }
      ],
      "source": [
        "# One-hot encoding of target values\n",
        "y = to_categorical(ISEAR_data['emotion_label'], num_classes=num_classes)\n",
        "y_original_labels = ISEAR_data['emotion_label'].values\n",
        "\n",
        "print(f\"Dimensions of embeddings_CBOW: {embeddings_CBOW.shape}\") # (number_of_examples, sequence_length, embedding_dim)\n",
        "print(f\"Dimensions of embeddings_SG: {embeddings_SG.shape}\") # (number_of_examples, sequence_length, embedding_dim)\n",
        "print(f\"Dimensions of target value: {y.shape}\") # (number_of_examples, num_classes)"
      ]
    },
    {
      "cell_type": "markdown",
      "id": "5ce781f5",
      "metadata": {
        "id": "5ce781f5"
      },
      "source": [
        "# RNN predictions for Word2Vec embeddings"
      ]
    },
    {
      "cell_type": "markdown",
      "id": "71d09564",
      "metadata": {
        "id": "71d09564"
      },
      "source": [
        "### Predictions for SG embeddings"
      ]
    },
    {
      "cell_type": "code",
      "execution_count": null,
      "id": "3f94496e",
      "metadata": {
        "colab": {
          "base_uri": "https://localhost:8080/"
        },
        "id": "3f94496e",
        "outputId": "aca6db33-624c-4b1b-8474-c2bb3467eb77"
      },
      "outputs": [
        {
          "output_type": "stream",
          "name": "stdout",
          "text": [
            "\n",
            "--- Training Fold 1/5 ---\n",
            "Epoch 14: early stopping\n",
            "Restoring model weights from the end of the best epoch: 9.\n",
            "   Fold 1 - Val Loss: 1.3983, Val Acc: 0.5396, Val Precision-macro: 0.5411, Val Recall-macro: 0.5398, Val F1-macro: 0.5381, Val AUC-macro: 0.8521\n",
            "   Confusion Matrix:\n",
            "[[ 85  38   5  27  10  29  20]\n",
            " [ 16 118   9  15  13  19  22]\n",
            " [ 13  18 128  12   6  25  14]\n",
            " [ 18  20   9  97  15  19  36]\n",
            " [  7   8   6   4 159  21   8]\n",
            " [ 17  11  11  17  22 128  10]\n",
            " [ 26  21  10  40  13  11  95]]\n",
            "\n",
            "--- Training Fold 2/5 ---\n",
            "Epoch 12: early stopping\n",
            "Restoring model weights from the end of the best epoch: 7.\n",
            "   Fold 2 - Val Loss: 1.3057, Val Acc: 0.5430, Val Precision-macro: 0.5520, Val Recall-macro: 0.5431, Val F1-macro: 0.5396, Val AUC-macro: 0.8515\n",
            "   Confusion Matrix:\n",
            "[[126  16   6  22  11  19  14]\n",
            " [ 50 105  19   6  12   9  11]\n",
            " [ 23  12 137  12  10  17   5]\n",
            " [ 55   9  16  90   7  15  22]\n",
            " [ 14   8   7   9 156  19   0]\n",
            " [ 20   6  11  17  23 131   8]\n",
            " [ 35  20  20  39  23   9  70]]\n",
            "\n",
            "--- Training Fold 3/5 ---\n",
            "Epoch 11: early stopping\n",
            "Restoring model weights from the end of the best epoch: 6.\n",
            "   Fold 3 - Val Loss: 1.2960, Val Acc: 0.5396, Val Precision-macro: 0.5502, Val Recall-macro: 0.5398, Val F1-macro: 0.5398, Val AUC-macro: 0.8509\n",
            "   Confusion Matrix:\n",
            "[[108  13  16  23  26   3  25]\n",
            " [ 40 110  13   6  12   5  25]\n",
            " [ 15  11 150   9  12  11   8]\n",
            " [ 43   5  11  90  16  15  34]\n",
            " [ 14   3   8   3 152  15  18]\n",
            " [ 28   7  11   9  35 111  15]\n",
            " [ 27  16  19  42  15   9  89]]\n",
            "\n",
            "--- Training Fold 4/5 ---\n",
            "Epoch 10: early stopping\n",
            "Restoring model weights from the end of the best epoch: 5.\n",
            "   Fold 4 - Val Loss: 1.2752, Val Acc: 0.5523, Val Precision-macro: 0.5678, Val Recall-macro: 0.5528, Val F1-macro: 0.5493, Val AUC-macro: 0.8555\n",
            "   Confusion Matrix:\n",
            "[[113  23  17  34   6  13   8]\n",
            " [ 28 126  16  16   6  10   9]\n",
            " [ 15  11 155  11   4  13   7]\n",
            " [ 50  10  15 106   5  13  15]\n",
            " [ 13  11  12  15 142  16   4]\n",
            " [ 16   4  22  26   8 135   5]\n",
            " [ 43  22  17  67   7   9  52]]\n",
            "\n",
            "--- Training Fold 5/5 ---\n",
            "Epoch 13: early stopping\n",
            "Restoring model weights from the end of the best epoch: 8.\n",
            "   Fold 5 - Val Loss: 1.3433, Val Acc: 0.5503, Val Precision-macro: 0.5581, Val Recall-macro: 0.5507, Val F1-macro: 0.5473, Val AUC-macro: 0.8571\n",
            "   Confusion Matrix:\n",
            "[[ 82  28   9  46  15  27   7]\n",
            " [ 25 120   8  18  13  19   9]\n",
            " [  8  21 138  16  13  16   3]\n",
            " [ 20   9  10 117  11  28  19]\n",
            " [  2   9   2  12 160  21   7]\n",
            " [ 14  12   7  22  21 127  13]\n",
            " [ 15  22  15  48  20  15  82]]\n"
          ]
        }
      ],
      "source": [
        "# Model parameters\n",
        "n_splits = 5 # 5-fold cross-validation\n",
        "skf = StratifiedKFold(n_splits=n_splits, shuffle=True, random_state=42)\n",
        "epochs = 50\n",
        "batch_size = 32\n",
        "lstm_units = 128\n",
        "dropout_rate = 0.3\n",
        "\n",
        "fold_accuracies = []\n",
        "fold_losses = []\n",
        "fold_f1_macros = []\n",
        "fold_auc_macros = []\n",
        "fold_precision_macros = []\n",
        "fold_recall_macros = []\n",
        "fold_confusion_matrices = []\n",
        "\n",
        "for fold, (train_index, val_index) in enumerate(skf.split(embeddings_SG, y_original_labels)):\n",
        "    print(f\"\\n--- Training Fold {fold + 1}/{n_splits} ---\")\n",
        "\n",
        "    X_train_fold, X_val_fold = embeddings_SG[train_index], embeddings_SG[val_index]\n",
        "    y_train_fold, y_val_fold = y[train_index], y[val_index]\n",
        "\n",
        "    clear_session()  # Reseting Keras session to build new model\n",
        "\n",
        "    # Build LSTM Bidirectional model\n",
        "    model = Sequential()\n",
        "    model.add(Input(shape=(max_sequence_length, embedding_dim_SG)))\n",
        "    model.add(Bidirectional(LSTM(lstm_units, return_sequences=False)))\n",
        "    model.add(Dropout(dropout_rate))\n",
        "    model.add(Dense(64, activation='relu'))\n",
        "    model.add(Dropout(dropout_rate))\n",
        "    model.add(Dense(num_classes, activation='softmax'))\n",
        "\n",
        "    model.compile(\n",
        "        optimizer='adam',\n",
        "        loss='categorical_crossentropy',\n",
        "        metrics=['accuracy']\n",
        "    )\n",
        "\n",
        "    early_stopping_callback = EarlyStopping(\n",
        "        monitor='val_accuracy',\n",
        "        patience=5,\n",
        "        restore_best_weights=True,\n",
        "        mode='max',\n",
        "        verbose=1\n",
        "    )\n",
        "\n",
        "    # Training\n",
        "    history = model.fit(\n",
        "        X_train_fold, y_train_fold,\n",
        "        epochs=epochs,\n",
        "        batch_size=batch_size,\n",
        "        validation_data=(X_val_fold, y_val_fold),\n",
        "        callbacks=[early_stopping_callback],\n",
        "        verbose=0\n",
        "    )\n",
        "\n",
        "    # Evaluation\n",
        "    loss, accuracy = model.evaluate(X_val_fold, y_val_fold, verbose=0)\n",
        "    fold_losses.append(loss)\n",
        "    fold_accuracies.append(accuracy)\n",
        "\n",
        "    y_pred_probs_fold = model.predict(X_val_fold, verbose=0)\n",
        "    y_pred_classes_fold = np.argmax(y_pred_probs_fold, axis=1)\n",
        "    y_true_classes_fold = np.argmax(y_val_fold, axis=1)\n",
        "\n",
        "    precision_macro_fold = precision_score(y_true_classes_fold, y_pred_classes_fold, average='macro', zero_division=0)\n",
        "    recall_macro_fold = recall_score(y_true_classes_fold, y_pred_classes_fold, average='macro', zero_division=0)\n",
        "    f1_macro_fold = f1_score(y_true_classes_fold, y_pred_classes_fold, average='macro', zero_division=0)\n",
        "\n",
        "    fold_precision_macros.append(precision_macro_fold)\n",
        "    fold_recall_macros.append(recall_macro_fold)\n",
        "    fold_f1_macros.append(f1_macro_fold)\n",
        "\n",
        "    try:\n",
        "        auc_macro_fold = roc_auc_score(y_true_classes_fold, y_pred_probs_fold, multi_class='ovr', average='macro')\n",
        "        fold_auc_macros.append(auc_macro_fold)\n",
        "    except ValueError:\n",
        "        fold_auc_macros.append(np.nan)\n",
        "\n",
        "    # --- Confusion matrix ---\n",
        "    cm = confusion_matrix(y_true_classes_fold, y_pred_classes_fold)\n",
        "    fold_confusion_matrices.append(cm)\n",
        "\n",
        "    print(f\"   Fold {fold + 1} - Val Loss: {loss:.4f}, Val Acc: {accuracy:.4f}, \"\n",
        "          f\"Val Precision-macro: {precision_macro_fold:.4f}, Val Recall-macro: {recall_macro_fold:.4f}, \"\n",
        "          f\"Val F1-macro: {f1_macro_fold:.4f}, Val AUC-macro: {fold_auc_macros[-1]:.4f}\")\n",
        "    print(f\"   Confusion Matrix:\\n{cm}\")"
      ]
    },
    {
      "cell_type": "code",
      "execution_count": null,
      "id": "0e0d85ef",
      "metadata": {
        "colab": {
          "base_uri": "https://localhost:8080/"
        },
        "id": "0e0d85ef",
        "outputId": "42afd0de-a232-4355-bbf4-7c8ffb4a6fa4"
      },
      "outputs": [
        {
          "output_type": "stream",
          "name": "stdout",
          "text": [
            "\n",
            "--- Average cross validation results for Word2Vec SG embeddings ---\n",
            "Loss: 1.3237 +/- 0.0433\n",
            "Accuracy: 0.5450 +/- 0.0053\n",
            "Precision-macro: 0.5538 +/- 0.0089\n",
            "Recall-macro: 0.5452 +/- 0.0055\n",
            "F1-macro: 0.5428 +/- 0.0045\n",
            "AUC-macro: 0.8534 +/- 0.0024\n",
            "Average Confusion Matrix across folds:\n",
            "[[102  23  10  30  13  18  14]\n",
            " [ 31 115  13  12  11  12  15]\n",
            " [ 14  14 141  12   9  16   7]\n",
            " [ 37  10  12 100  10  18  25]\n",
            " [ 10   7   7   8 153  18   7]\n",
            " [ 19   8  12  18  21 126  10]\n",
            " [ 29  20  16  47  15  10  77]]\n"
          ]
        }
      ],
      "source": [
        "# Calculation of average results across all folds +/ std.dev\n",
        "print(\"\\n--- Average cross validation results for Word2Vec SG embeddings ---\")\n",
        "print(f\"Loss: {np.mean(fold_losses):.4f} +/- {np.std(fold_losses):.4f}\")\n",
        "print(f\"Accuracy: {np.mean(fold_accuracies):.4f} +/- {np.std(fold_accuracies):.4f}\")\n",
        "print(f\"Precision-macro: {np.mean(fold_precision_macros):.4f} +/- {np.std(fold_precision_macros):.4f}\")\n",
        "print(f\"Recall-macro: {np.mean(fold_recall_macros):.4f} +/- {np.std(fold_recall_macros):.4f}\")\n",
        "print(f\"F1-macro: {np.mean(fold_f1_macros):.4f} +/- {np.std(fold_f1_macros):.4f}\")\n",
        "print(f\"AUC-macro: {np.nanmean(fold_auc_macros):.4f} +/- {np.nanstd(fold_auc_macros):.4f}\")\n",
        "avg_confusion_matrix = np.mean(fold_confusion_matrices, axis=0)\n",
        "print(f\"Average Confusion Matrix across folds:\\n{avg_confusion_matrix.astype(int)}\")"
      ]
    },
    {
      "cell_type": "markdown",
      "id": "e020a5a9",
      "metadata": {
        "id": "e020a5a9"
      },
      "source": [
        "### Predictions for CBOW embeddings"
      ]
    },
    {
      "cell_type": "code",
      "execution_count": null,
      "id": "3160b1d1",
      "metadata": {
        "colab": {
          "base_uri": "https://localhost:8080/"
        },
        "id": "3160b1d1",
        "outputId": "f2d28987-300f-4987-ee47-adc70667ee2a"
      },
      "outputs": [
        {
          "output_type": "stream",
          "name": "stdout",
          "text": [
            "\n",
            "--- Training Fold 1/5 ---\n",
            "Epoch 27: early stopping\n",
            "Restoring model weights from the end of the best epoch: 22.\n",
            "   Fold 1 - Val Loss: 1.4503, Val Acc: 0.5157, Val Precision-macro: 0.5192, Val Recall-macro: 0.5158, Val F1-macro: 0.5020, Val AUC-macro: 0.8364\n",
            "   Confusion Matrix:\n",
            "[[ 97  22  14  15  27  30   9]\n",
            " [ 31  97  29   7  21  20   7]\n",
            " [  9   7 143   8  17  27   5]\n",
            " [ 32  14  26  85  19  28  10]\n",
            " [  7   2  12   6 167  17   2]\n",
            " [ 20  14  14   5  25 133   5]\n",
            " [ 38  25  21  45  18  17  52]]\n",
            "\n",
            "--- Training Fold 2/5 ---\n",
            "Epoch 25: early stopping\n",
            "Restoring model weights from the end of the best epoch: 20.\n",
            "   Fold 2 - Val Loss: 1.3549, Val Acc: 0.5150, Val Precision-macro: 0.5361, Val Recall-macro: 0.5148, Val F1-macro: 0.5138, Val AUC-macro: 0.8392\n",
            "   Confusion Matrix:\n",
            "[[119  14  12  29   6  20  14]\n",
            " [ 60  78  24  13   7  10  20]\n",
            " [ 20   8 144  18   6  17   3]\n",
            " [ 46   3  13 107   8  14  23]\n",
            " [ 18   9   7  15 129  28   7]\n",
            " [ 21   4  11  27  14 130   9]\n",
            " [ 37   6  22  58  16  11  66]]\n",
            "\n",
            "--- Training Fold 3/5 ---\n",
            "Epoch 24: early stopping\n",
            "Restoring model weights from the end of the best epoch: 19.\n",
            "   Fold 3 - Val Loss: 1.3819, Val Acc: 0.4910, Val Precision-macro: 0.4956, Val Recall-macro: 0.4910, Val F1-macro: 0.4894, Val AUC-macro: 0.8299\n",
            "   Confusion Matrix:\n",
            "[[ 82  17  17  34  20  13  31]\n",
            " [ 32  99  27   9   9  10  25]\n",
            " [ 13   7 150   9  11  10  16]\n",
            " [ 33   6  12  72  10  23  58]\n",
            " [ 18   5  14   3 143  15  15]\n",
            " [ 19  11  18  18  28 102  20]\n",
            " [ 27  15  23  38  19   6  89]]\n",
            "\n",
            "--- Training Fold 4/5 ---\n",
            "Epoch 24: early stopping\n",
            "Restoring model weights from the end of the best epoch: 19.\n",
            "   Fold 4 - Val Loss: 1.3802, Val Acc: 0.5137, Val Precision-macro: 0.5185, Val Recall-macro: 0.5142, Val F1-macro: 0.5055, Val AUC-macro: 0.8345\n",
            "   Confusion Matrix:\n",
            "[[114  23   6  29  16  15  11]\n",
            " [ 29 106  16  14  21  16   9]\n",
            " [ 20   4 130  16  20  16  10]\n",
            " [ 42   8  19  94  14  20  17]\n",
            " [ 11   5   9  12 158  18   0]\n",
            " [ 27   6  16  15  29 121   2]\n",
            " [ 39  26  18  61  12  13  48]]\n",
            "\n",
            "--- Training Fold 5/5 ---\n",
            "Epoch 30: early stopping\n",
            "Restoring model weights from the end of the best epoch: 25.\n",
            "   Fold 5 - Val Loss: 1.5074, Val Acc: 0.5010, Val Precision-macro: 0.5078, Val Recall-macro: 0.5012, Val F1-macro: 0.4980, Val AUC-macro: 0.8255\n",
            "   Confusion Matrix:\n",
            "[[112  22  13  19  24  15   9]\n",
            " [ 46  89  14  11  27  11  14]\n",
            " [ 13  13 124  12  21  23   9]\n",
            " [ 52   9  10  74  15  23  31]\n",
            " [ 11   8   4   7 156  14  13]\n",
            " [ 26  11  10  20  24 110  15]\n",
            " [ 37  11  13  30  21  18  87]]\n"
          ]
        }
      ],
      "source": [
        "# Model parameters\n",
        "n_splits = 5 # 5-fold cross-validation\n",
        "skf = StratifiedKFold(n_splits=n_splits, shuffle=True, random_state=42)\n",
        "epochs = 50\n",
        "batch_size = 32\n",
        "lstm_units = 128\n",
        "dropout_rate = 0.3\n",
        "\n",
        "fold_accuracies = []\n",
        "fold_losses = []\n",
        "fold_f1_macros = []\n",
        "fold_auc_macros = []\n",
        "fold_precision_macros = []\n",
        "fold_recall_macros = []\n",
        "fold_confusion_matrices = []\n",
        "\n",
        "for fold, (train_index, val_index) in enumerate(skf.split(embeddings_CBOW, y_original_labels)):\n",
        "    print(f\"\\n--- Training Fold {fold + 1}/{n_splits} ---\")\n",
        "\n",
        "    X_train_fold, X_val_fold = embeddings_CBOW[train_index], embeddings_CBOW[val_index]\n",
        "    y_train_fold, y_val_fold = y[train_index], y[val_index]\n",
        "\n",
        "    clear_session() # Reseting Keras session to build new model\n",
        "\n",
        "    # Building an LSTM Bidirectional model\n",
        "    model = Sequential()\n",
        "    model.add(Input(shape=(max_sequence_length, embedding_dim_CBOW)))\n",
        "    model.add(Bidirectional(LSTM(lstm_units, return_sequences=False)))\n",
        "    model.add(Dropout(dropout_rate))\n",
        "    model.add(Dense(64, activation='relu'))\n",
        "    model.add(Dropout(dropout_rate))\n",
        "    model.add(Dense(num_classes, activation='softmax'))\n",
        "\n",
        "    model.compile(optimizer='adam',\n",
        "                  loss='categorical_crossentropy',\n",
        "                  metrics=['accuracy'])\n",
        "\n",
        "    # EarlyStopping Callback - to prevent model of overfitting\n",
        "    early_stopping_callback = EarlyStopping(\n",
        "        monitor='val_accuracy', # We are tracking validation accuracy\n",
        "        patience=5,             # The training stops if the val_accuracy doesn't get better after 5 epochs\n",
        "        restore_best_weights=True,\n",
        "        mode='max',             # Maximizing accuracy\n",
        "        verbose=1\n",
        "    )\n",
        "\n",
        "    # Training the model\n",
        "    history = model.fit(\n",
        "        X_train_fold, y_train_fold,\n",
        "        epochs=50,   # trining in 50 epochs (we assume early stopping call back will end the training before)\n",
        "        batch_size=batch_size,\n",
        "        validation_data=(X_val_fold, y_val_fold),\n",
        "        callbacks=[early_stopping_callback],\n",
        "        verbose=0\n",
        "    )\n",
        "\n",
        "    # Evaluating the model\n",
        "    loss, accuracy = model.evaluate(X_val_fold, y_val_fold, verbose=0)\n",
        "    fold_losses.append(loss)\n",
        "    fold_accuracies.append(accuracy)\n",
        "\n",
        "    y_pred_probs_fold = model.predict(X_val_fold, verbose=0)\n",
        "    y_pred_classes_fold = np.argmax(y_pred_probs_fold, axis=1)\n",
        "    y_true_classes_fold = np.argmax(y_val_fold, axis=1)\n",
        "\n",
        "    precision_macro_fold = precision_score(y_true_classes_fold, y_pred_classes_fold, average='macro', zero_division=0)\n",
        "    recall_macro_fold = recall_score(y_true_classes_fold, y_pred_classes_fold, average='macro', zero_division=0)\n",
        "\n",
        "    fold_precision_macros.append(precision_macro_fold)\n",
        "    fold_recall_macros.append(recall_macro_fold)\n",
        "\n",
        "    f1_macro_fold = f1_score(y_true_classes_fold, y_pred_classes_fold, average='macro', zero_division=0)\n",
        "    fold_f1_macros.append(f1_macro_fold)\n",
        "\n",
        "    try:\n",
        "        auc_macro_fold = roc_auc_score(y_true_classes_fold, y_pred_probs_fold, multi_class='ovr', average='macro')\n",
        "        fold_auc_macros.append(auc_macro_fold)\n",
        "    except ValueError as e:\n",
        "        fold_auc_macros.append(np.nan)\n",
        "\n",
        "    # --- Confusion matrix ---\n",
        "    cm = confusion_matrix(y_true_classes_fold, y_pred_classes_fold)\n",
        "    fold_confusion_matrices.append(cm)\n",
        "\n",
        "    print(f\"   Fold {fold + 1} - Val Loss: {loss:.4f}, Val Acc: {accuracy:.4f}, \"\n",
        "          f\"Val Precision-macro: {precision_macro_fold:.4f}, Val Recall-macro: {recall_macro_fold:.4f}, \"\n",
        "          f\"Val F1-macro: {f1_macro_fold:.4f}, Val AUC-macro: {fold_auc_macros[-1]:.4f}\")\n",
        "    print(f\"   Confusion Matrix:\\n{cm}\")"
      ]
    },
    {
      "cell_type": "code",
      "execution_count": null,
      "id": "1b6f0222",
      "metadata": {
        "colab": {
          "base_uri": "https://localhost:8080/"
        },
        "id": "1b6f0222",
        "outputId": "52a1ba70-93dd-4118-896c-cc784b93f9ec"
      },
      "outputs": [
        {
          "output_type": "stream",
          "name": "stdout",
          "text": [
            "\n",
            "--- Average cross validation results for Word2Vec CBOW embeddings ---\n",
            "Val Loss: 1.4150 +/- 0.0561\n",
            "Val Accuracy: 0.5073 +/- 0.0097\n",
            "Val Precision-macro: 0.5154 +/- 0.0134\n",
            "Val Recall-macro: 0.5074 +/- 0.0098\n",
            "Val F1-macro: 0.5017 +/- 0.0081\n",
            "Val AUC-macro: 0.8331 +/- 0.0048\n",
            "Average Confusion Matrix across folds:\n",
            "[[104  19  12  25  18  18  14]\n",
            " [ 39  93  22  10  17  13  15]\n",
            " [ 15   7 138  12  15  18   8]\n",
            " [ 41   8  16  86  13  21  27]\n",
            " [ 13   5   9   8 150  18   7]\n",
            " [ 22   9  13  17  24 119  10]\n",
            " [ 35  16  19  46  17  13  68]]\n"
          ]
        }
      ],
      "source": [
        "# Calculation of average results across all folds +/ std.dev\n",
        "print(\"\\n--- Average cross validation results for Word2Vec CBOW embeddings ---\")\n",
        "print(f\"Val Loss: {np.mean(fold_losses):.4f} +/- {np.std(fold_losses):.4f}\")\n",
        "print(f\"Val Accuracy: {np.mean(fold_accuracies):.4f} +/- {np.std(fold_accuracies):.4f}\")\n",
        "print(f\"Val Precision-macro: {np.mean(fold_precision_macros):.4f} +/- {np.std(fold_precision_macros):.4f}\")\n",
        "print(f\"Val Recall-macro: {np.mean(fold_recall_macros):.4f} +/- {np.std(fold_recall_macros):.4f}\")\n",
        "print(f\"Val F1-macro: {np.mean(fold_f1_macros):.4f} +/- {np.std(fold_f1_macros):.4f}\")\n",
        "print(f\"Val AUC-macro: {np.nanmean(fold_auc_macros):.4f} +/- {np.nanstd(fold_auc_macros):.4f}\")\n",
        "avg_confusion_matrix = np.mean(fold_confusion_matrices, axis=0)\n",
        "print(f\"Average Confusion Matrix across folds:\\n{avg_confusion_matrix.astype(int)}\")"
      ]
    },
    {
      "cell_type": "markdown",
      "id": "d49afe98",
      "metadata": {
        "id": "d49afe98"
      },
      "source": [
        "# BERT Embeddings"
      ]
    },
    {
      "cell_type": "code",
      "execution_count": null,
      "id": "c5e6a454",
      "metadata": {
        "id": "c5e6a454"
      },
      "outputs": [],
      "source": [
        "# Import of fine tuned bert model\n",
        "#model_path = \"/content/drive/My Drive/modeli/BERT_5\"\n",
        "model_path = \"/content/drive/My Drive/fine_tuned_bert\"\n",
        "bert_model = BertForMaskedLM.from_pretrained(model_path)\n",
        "bert_tokenizer = BertTokenizer.from_pretrained(model_path)\n",
        "embedding_dim_bert = bert_model.config.hidden_size"
      ]
    },
    {
      "cell_type": "code",
      "execution_count": null,
      "id": "bc265cb3",
      "metadata": {
        "id": "bc265cb3"
      },
      "outputs": [],
      "source": [
        "# Function for getting bert embeddings\n",
        "def get_bert_embeddings(sentence, bert_model, bert_tokenizer, max_sequence_length_for_lstm):\n",
        "\n",
        "    padding_zeroes = np.zeros(embedding_dim_bert, dtype=np.float32) # used to pad sequences shorter than sequence_length (50)\n",
        "\n",
        "    inputs = bert_tokenizer(\n",
        "        sentence,\n",
        "        return_tensors='pt',\n",
        "        truncation=True\n",
        "    )\n",
        "\n",
        "    device = torch.device('cuda' if torch.cuda.is_available() else 'cpu')\n",
        "    bert_model.to(device)\n",
        "    inputs = {k: v.to(device) for k, v in inputs.items()}\n",
        "\n",
        "    with torch.no_grad():\n",
        "        outputs = bert_model(\n",
        "            input_ids=inputs['input_ids'],\n",
        "            attention_mask=inputs.get('attention_mask', None),\n",
        "            token_type_ids=inputs.get('token_type_ids', None),\n",
        "            output_hidden_states=True\n",
        "        )\n",
        "\n",
        "    # Last hidden state: (seq_len, embedding_dim)\n",
        "    token_embeddings = outputs.hidden_states[-1].squeeze(0).cpu().numpy()\n",
        "    input_ids = inputs['input_ids'].squeeze(0).cpu().numpy()\n",
        "\n",
        "    # Filter out special tokens\n",
        "    filtered_embeddings = []\n",
        "    for i, token_id in enumerate(input_ids):\n",
        "        token_str = bert_tokenizer.decode([token_id])\n",
        "        if token_str in bert_tokenizer.all_special_tokens or not token_str.strip():\n",
        "            continue\n",
        "        filtered_embeddings.append(token_embeddings[i])\n",
        "\n",
        "    return np.array(filtered_embeddings, dtype=np.float32)  # shape: (seq_len, embedding_dim)"
      ]
    },
    {
      "cell_type": "code",
      "execution_count": null,
      "id": "4b0f8a00",
      "metadata": {
        "id": "4b0f8a00"
      },
      "outputs": [],
      "source": [
        "# Getting bert embeddings for each word in the sentence\n",
        "list_of_embeddings_BERT = [\n",
        "   get_bert_embeddings(text, bert_model, bert_tokenizer, max_sequence_length)\n",
        "    for text in ISEAR_data['text']\n",
        "]"
      ]
    },
    {
      "cell_type": "code",
      "execution_count": null,
      "id": "8a6e350c",
      "metadata": {
        "id": "8a6e350c"
      },
      "outputs": [],
      "source": [
        "# Padding sequences to the same length -> adding zeroes to the sequences shorter than embedding_dim and cutting sequences longer than embedding_dim\n",
        "# Converting to NumPy array\n",
        "embeddings_BERT = pad_sequences(\n",
        "    list_of_embeddings_BERT,\n",
        "    maxlen = max_sequence_length,\n",
        "    dtype = 'float32',\n",
        "    padding = 'post',\n",
        "    truncating = 'post'\n",
        ")\n",
        "\n",
        "# print (embeddings_BERT)"
      ]
    },
    {
      "cell_type": "code",
      "execution_count": null,
      "id": "de4ea499",
      "metadata": {
        "colab": {
          "base_uri": "https://localhost:8080/"
        },
        "id": "de4ea499",
        "outputId": "f502f8db-12a0-424e-eb73-37a73f5f4444"
      },
      "outputs": [
        {
          "output_type": "stream",
          "name": "stdout",
          "text": [
            "\n",
            "Dimensions of embeddings_BERT: (7505, 30, 768)\n",
            "Dimensions of target value: (7505, 7)\n"
          ]
        }
      ],
      "source": [
        "# One-hot encoding of target values\n",
        "y = to_categorical(ISEAR_data['emotion_label'], num_classes=num_classes)\n",
        "\n",
        "print(f\"\\nDimensions of embeddings_BERT: {embeddings_BERT.shape}\") # (number_of_examples, sequence_length, embedding_dim)\n",
        "print(f\"Dimensions of target value: {y.shape}\") # (number_of_examples, num_classes)"
      ]
    },
    {
      "cell_type": "markdown",
      "id": "1dc2d0dc",
      "metadata": {
        "id": "1dc2d0dc"
      },
      "source": [
        "# RNN predictions for BERT Embeddings"
      ]
    },
    {
      "cell_type": "code",
      "execution_count": null,
      "id": "a5f360f6",
      "metadata": {
        "colab": {
          "base_uri": "https://localhost:8080/"
        },
        "id": "a5f360f6",
        "outputId": "ca820ace-eef4-4728-f80f-f58edebfb160"
      },
      "outputs": [
        {
          "output_type": "stream",
          "name": "stdout",
          "text": [
            "\n",
            "--- Training Fold 1/5 ---\n",
            "Epoch 20: early stopping\n",
            "Restoring model weights from the end of the best epoch: 15.\n",
            "   Fold 1 - Val Loss: 1.8591, Val Acc: 0.6342\n",
            "\n",
            "--- Training Fold 2/5 ---\n",
            "Epoch 15: early stopping\n",
            "Restoring model weights from the end of the best epoch: 10.\n",
            "   Fold 2 - Val Loss: 1.4480, Val Acc: 0.6149\n",
            "\n",
            "--- Training Fold 3/5 ---\n",
            "Epoch 11: early stopping\n",
            "Restoring model weights from the end of the best epoch: 6.\n",
            "   Fold 3 - Val Loss: 1.0871, Val Acc: 0.6422\n",
            "\n",
            "--- Training Fold 4/5 ---\n",
            "Epoch 12: early stopping\n",
            "Restoring model weights from the end of the best epoch: 7.\n",
            "   Fold 4 - Val Loss: 1.0908, Val Acc: 0.6382\n",
            "\n",
            "--- Training Fold 5/5 ---\n",
            "Epoch 12: early stopping\n",
            "Restoring model weights from the end of the best epoch: 7.\n",
            "   Fold 5 - Val Loss: 1.1295, Val Acc: 0.6342\n"
          ]
        }
      ],
      "source": [
        "# Model parameters\n",
        "n_splits = 5 # 5-fold cross-validation\n",
        "skf = StratifiedKFold(n_splits=n_splits, shuffle=True, random_state=42)\n",
        "epochs = 50\n",
        "batch_size = 32\n",
        "lstm_units = 128\n",
        "dropout_rate = 0.3\n",
        "\n",
        "fold_accuracies = []\n",
        "fold_losses = []\n",
        "fold_f1_macros = []\n",
        "fold_auc_macros = []\n",
        "fold_precision_macros = []\n",
        "fold_recall_macros = []\n",
        "fold_confusion_matrices = []\n",
        "\n",
        "for fold, (train_index, val_index) in enumerate(skf.split(embeddings_BERT, y_original_labels)):\n",
        "    print(f\"\\n--- Training Fold {fold + 1}/{n_splits} ---\")\n",
        "\n",
        "    X_train_fold, X_val_fold = embeddings_BERT[train_index], embeddings_BERT[val_index]\n",
        "    y_train_fold, y_val_fold = y[train_index], y[val_index]\n",
        "\n",
        "    clear_session() # Reseting Keras session to build new model\n",
        "\n",
        "    # Building an LSTM Bidirectional model\n",
        "    model = Sequential()\n",
        "    model.add(Input(shape=(max_sequence_length, embedding_dim_bert)))\n",
        "    model.add(Bidirectional(LSTM(lstm_units, return_sequences=False)))\n",
        "    model.add(Dropout(dropout_rate))\n",
        "    model.add(Dense(64, activation='relu'))\n",
        "    model.add(Dropout(dropout_rate))\n",
        "    model.add(Dense(num_classes, activation='softmax'))\n",
        "\n",
        "    model.compile(optimizer='adam',\n",
        "                  loss='categorical_crossentropy',\n",
        "                  metrics=['accuracy'])\n",
        "\n",
        "    # EarlyStopping Callback - to prevent model of overfitting\n",
        "    early_stopping_callback = EarlyStopping(\n",
        "        monitor='val_accuracy', # We are tracking validation accuracy\n",
        "        patience=5,             # The training stops if the val_accuracy doesn't get better after 5 epochs\n",
        "        restore_best_weights=True,\n",
        "        mode='max',             # Maximizing accuracy\n",
        "        verbose=1\n",
        "    )\n",
        "\n",
        "    # Training the model\n",
        "    history = model.fit(\n",
        "        X_train_fold, y_train_fold,\n",
        "        epochs=50,   # trining in 50 epochs (we assume early stopping call back will end the training before)\n",
        "        batch_size=batch_size,\n",
        "        validation_data=(X_val_fold, y_val_fold),\n",
        "        callbacks=[early_stopping_callback],\n",
        "        verbose=0\n",
        "    )\n",
        "\n",
        "    # Evaluating the model\n",
        "    loss, accuracy = model.evaluate(X_val_fold, y_val_fold, verbose=0)\n",
        "    fold_losses.append(loss)\n",
        "    fold_accuracies.append(accuracy)\n",
        "\n",
        "    y_pred_probs_fold = model.predict(X_val_fold, verbose=0)\n",
        "    y_pred_classes_fold = np.argmax(y_pred_probs_fold, axis=1)\n",
        "    y_true_classes_fold = np.argmax(y_val_fold, axis=1)\n",
        "\n",
        "    precision_macro_fold = precision_score(y_true_classes_fold, y_pred_classes_fold, average='macro', zero_division=0)\n",
        "    recall_macro_fold = recall_score(y_true_classes_fold, y_pred_classes_fold, average='macro', zero_division=0)\n",
        "\n",
        "    fold_precision_macros.append(precision_macro_fold)\n",
        "    fold_recall_macros.append(recall_macro_fold)\n",
        "\n",
        "    f1_macro_fold = f1_score(y_true_classes_fold, y_pred_classes_fold, average='macro', zero_division=0)\n",
        "    fold_f1_macros.append(f1_macro_fold)\n",
        "\n",
        "    try:\n",
        "        auc_macro_fold = roc_auc_score(y_true_classes_fold, y_pred_probs_fold, multi_class='ovr', average='macro')\n",
        "        fold_auc_macros.append(auc_macro_fold)\n",
        "    except ValueError as e:\n",
        "        fold_auc_macros.append(np.nan)\n",
        "\n",
        "   # --- Confusion matrix ---\n",
        "    cm = confusion_matrix(y_true_classes_fold, y_pred_classes_fold)\n",
        "    fold_confusion_matrices.append(cm)\n",
        "\n",
        "    print(f\"   Fold {fold + 1} - Val Loss: {loss:.4f}, Val Acc: {accuracy:.4f}\")"
      ]
    },
    {
      "cell_type": "code",
      "execution_count": null,
      "id": "33ebdc48",
      "metadata": {
        "colab": {
          "base_uri": "https://localhost:8080/"
        },
        "id": "33ebdc48",
        "outputId": "46578683-55e4-48e8-a5d8-cc0acac367eb"
      },
      "outputs": [
        {
          "output_type": "stream",
          "name": "stdout",
          "text": [
            "\n",
            "--- Average cross validation results for BERT embeddings ---\n",
            "Val Loss: 1.3229 +/- 0.3000\n",
            "Val Accuracy: 0.6328 +/- 0.0094\n",
            "Val Precision-macro: 0.6426 +/- 0.0148\n",
            "Val Recall-macro: 0.6329 +/- 0.0094\n",
            "Val F1-macro: 0.6321 +/- 0.0088\n",
            "Val AUC-macro: 0.8984 +/- 0.0052\n",
            "Average Confusion Matrix across folds:\n",
            "[[118  26  10  19   6  11  21]\n",
            " [ 32 129  11   9   4   7  17]\n",
            " [ 11   9 156   8   5  11  14]\n",
            " [ 25   8  11 108   3  14  43]\n",
            " [  4   2   4   3 180   9   8]\n",
            " [ 16  11  12  10  11 140  13]\n",
            " [ 21  14  12  38   7   6 116]]\n"
          ]
        }
      ],
      "source": [
        "# Calculation of average results across all folds +/ std.dev\n",
        "print(\"\\n--- Average cross validation results for BERT embeddings ---\")\n",
        "print(f\"Val Loss: {np.mean(fold_losses):.4f} +/- {np.std(fold_losses):.4f}\")\n",
        "print(f\"Val Accuracy: {np.mean(fold_accuracies):.4f} +/- {np.std(fold_accuracies):.4f}\")\n",
        "print(f\"Val Precision-macro: {np.mean(fold_precision_macros):.4f} +/- {np.std(fold_precision_macros):.4f}\")\n",
        "print(f\"Val Recall-macro: {np.mean(fold_recall_macros):.4f} +/- {np.std(fold_recall_macros):.4f}\")\n",
        "print(f\"Val F1-macro: {np.mean(fold_f1_macros):.4f} +/- {np.std(fold_f1_macros):.4f}\")\n",
        "print(f\"Val AUC-macro: {np.nanmean(fold_auc_macros):.4f} +/- {np.nanstd(fold_auc_macros):.4f}\")\n",
        "avg_confusion_matrix = np.mean(fold_confusion_matrices, axis=0)\n",
        "print(f\"Average Confusion Matrix across folds:\\n{avg_confusion_matrix.astype(int)}\")"
      ]
    }
  ],
  "metadata": {
    "kernelspec": {
      "display_name": "Python 3",
      "name": "python3"
    },
    "language_info": {
      "codemirror_mode": {
        "name": "ipython",
        "version": 3
      },
      "file_extension": ".py",
      "mimetype": "text/x-python",
      "name": "python",
      "nbconvert_exporter": "python",
      "pygments_lexer": "ipython3",
      "version": "3.12.2"
    },
    "colab": {
      "provenance": [],
      "machine_shape": "hm",
      "gpuType": "T4"
    },
    "accelerator": "GPU"
  },
  "nbformat": 4,
  "nbformat_minor": 5
}