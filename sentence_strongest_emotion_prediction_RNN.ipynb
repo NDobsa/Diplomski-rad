{
  "cells": [
    {
      "cell_type": "markdown",
      "id": "3008abd3",
      "metadata": {
        "id": "3008abd3"
      },
      "source": [
        "**Nina Dobša, zadnje mijenjano 28.7.2025.**\n",
        "\n",
        "> Dodaj oznaku dugog citata\n",
        "\n"
      ]
    },
    {
      "cell_type": "markdown",
      "id": "09e15e66",
      "metadata": {
        "id": "09e15e66"
      },
      "source": [
        "# Imports"
      ]
    },
    {
      "cell_type": "code",
      "source": [
        "%pip install gensim"
      ],
      "metadata": {
        "colab": {
          "base_uri": "https://localhost:8080/",
          "height": 717
        },
        "id": "J6yV_qZlJRbx",
        "outputId": "166dab0b-814a-4528-ed4a-d2e0be66a09c"
      },
      "id": "J6yV_qZlJRbx",
      "execution_count": 1,
      "outputs": [
        {
          "output_type": "stream",
          "name": "stdout",
          "text": [
            "Collecting gensim\n",
            "  Downloading gensim-4.3.3-cp311-cp311-manylinux_2_17_x86_64.manylinux2014_x86_64.whl.metadata (8.1 kB)\n",
            "Collecting numpy<2.0,>=1.18.5 (from gensim)\n",
            "  Downloading numpy-1.26.4-cp311-cp311-manylinux_2_17_x86_64.manylinux2014_x86_64.whl.metadata (61 kB)\n",
            "\u001b[2K     \u001b[90m━━━━━━━━━━━━━━━━━━━━━━━━━━━━━━━━━━━━━━━━\u001b[0m \u001b[32m61.0/61.0 kB\u001b[0m \u001b[31m2.4 MB/s\u001b[0m eta \u001b[36m0:00:00\u001b[0m\n",
            "\u001b[?25hCollecting scipy<1.14.0,>=1.7.0 (from gensim)\n",
            "  Downloading scipy-1.13.1-cp311-cp311-manylinux_2_17_x86_64.manylinux2014_x86_64.whl.metadata (60 kB)\n",
            "\u001b[2K     \u001b[90m━━━━━━━━━━━━━━━━━━━━━━━━━━━━━━━━━━━━━━━━\u001b[0m \u001b[32m60.6/60.6 kB\u001b[0m \u001b[31m4.2 MB/s\u001b[0m eta \u001b[36m0:00:00\u001b[0m\n",
            "\u001b[?25hRequirement already satisfied: smart-open>=1.8.1 in /usr/local/lib/python3.11/dist-packages (from gensim) (7.3.0.post1)\n",
            "Requirement already satisfied: wrapt in /usr/local/lib/python3.11/dist-packages (from smart-open>=1.8.1->gensim) (1.17.2)\n",
            "Downloading gensim-4.3.3-cp311-cp311-manylinux_2_17_x86_64.manylinux2014_x86_64.whl (26.7 MB)\n",
            "\u001b[2K   \u001b[90m━━━━━━━━━━━━━━━━━━━━━━━━━━━━━━━━━━━━━━━━\u001b[0m \u001b[32m26.7/26.7 MB\u001b[0m \u001b[31m75.6 MB/s\u001b[0m eta \u001b[36m0:00:00\u001b[0m\n",
            "\u001b[?25hDownloading numpy-1.26.4-cp311-cp311-manylinux_2_17_x86_64.manylinux2014_x86_64.whl (18.3 MB)\n",
            "\u001b[2K   \u001b[90m━━━━━━━━━━━━━━━━━━━━━━━━━━━━━━━━━━━━━━━━\u001b[0m \u001b[32m18.3/18.3 MB\u001b[0m \u001b[31m106.3 MB/s\u001b[0m eta \u001b[36m0:00:00\u001b[0m\n",
            "\u001b[?25hDownloading scipy-1.13.1-cp311-cp311-manylinux_2_17_x86_64.manylinux2014_x86_64.whl (38.6 MB)\n",
            "\u001b[2K   \u001b[90m━━━━━━━━━━━━━━━━━━━━━━━━━━━━━━━━━━━━━━━━\u001b[0m \u001b[32m38.6/38.6 MB\u001b[0m \u001b[31m64.3 MB/s\u001b[0m eta \u001b[36m0:00:00\u001b[0m\n",
            "\u001b[?25hInstalling collected packages: numpy, scipy, gensim\n",
            "  Attempting uninstall: numpy\n",
            "    Found existing installation: numpy 2.0.2\n",
            "    Uninstalling numpy-2.0.2:\n",
            "      Successfully uninstalled numpy-2.0.2\n",
            "  Attempting uninstall: scipy\n",
            "    Found existing installation: scipy 1.16.0\n",
            "    Uninstalling scipy-1.16.0:\n",
            "      Successfully uninstalled scipy-1.16.0\n",
            "\u001b[31mERROR: pip's dependency resolver does not currently take into account all the packages that are installed. This behaviour is the source of the following dependency conflicts.\n",
            "opencv-contrib-python 4.12.0.88 requires numpy<2.3.0,>=2; python_version >= \"3.9\", but you have numpy 1.26.4 which is incompatible.\n",
            "tsfresh 0.21.0 requires scipy>=1.14.0; python_version >= \"3.10\", but you have scipy 1.13.1 which is incompatible.\n",
            "opencv-python-headless 4.12.0.88 requires numpy<2.3.0,>=2; python_version >= \"3.9\", but you have numpy 1.26.4 which is incompatible.\n",
            "thinc 8.3.6 requires numpy<3.0.0,>=2.0.0, but you have numpy 1.26.4 which is incompatible.\n",
            "opencv-python 4.12.0.88 requires numpy<2.3.0,>=2; python_version >= \"3.9\", but you have numpy 1.26.4 which is incompatible.\u001b[0m\u001b[31m\n",
            "\u001b[0mSuccessfully installed gensim-4.3.3 numpy-1.26.4 scipy-1.13.1\n"
          ]
        },
        {
          "output_type": "display_data",
          "data": {
            "application/vnd.colab-display-data+json": {
              "pip_warning": {
                "packages": [
                  "numpy"
                ]
              },
              "id": "e1c2a81e0ab64da89916d353254b1b47"
            }
          },
          "metadata": {}
        }
      ]
    },
    {
      "cell_type": "code",
      "execution_count": 1,
      "id": "7fa1ad7b",
      "metadata": {
        "id": "7fa1ad7b"
      },
      "outputs": [],
      "source": [
        "import pandas as pd\n",
        "import numpy as np\n",
        "from sklearn.model_selection import StratifiedKFold\n",
        "from tensorflow.keras.models import Sequential\n",
        "from tensorflow.keras.layers import LSTM, Dense, Dropout, Bidirectional, Input\n",
        "from tensorflow.keras.preprocessing.sequence import pad_sequences\n",
        "from tensorflow.keras.utils import to_categorical\n",
        "from tensorflow.keras.backend import clear_session\n",
        "from tensorflow.keras.callbacks import EarlyStopping\n",
        "from sklearn.preprocessing import LabelEncoder\n",
        "from gensim.models import Word2Vec\n",
        "from transformers import BertTokenizer, BertForMaskedLM\n",
        "import torch\n",
        "from sklearn.metrics import accuracy_score, precision_score, recall_score, f1_score, roc_auc_score\n",
        "import matplotlib.pyplot as plt\n",
        "import seaborn as sns"
      ]
    },
    {
      "cell_type": "code",
      "source": [
        "# Connecting with google drive where fine tuned models are stored\n",
        "from google.colab import drive\n",
        "drive.mount('/content/drive')"
      ],
      "metadata": {
        "colab": {
          "base_uri": "https://localhost:8080/"
        },
        "id": "HKXMzjRALI-C",
        "outputId": "ed06c226-d76e-4001-b2ef-4cd2115da3ca"
      },
      "id": "HKXMzjRALI-C",
      "execution_count": 4,
      "outputs": [
        {
          "output_type": "stream",
          "name": "stdout",
          "text": [
            "Mounted at /content/drive\n"
          ]
        }
      ]
    },
    {
      "cell_type": "code",
      "execution_count": 5,
      "id": "b1f1fc99",
      "metadata": {
        "colab": {
          "base_uri": "https://localhost:8080/"
        },
        "id": "b1f1fc99",
        "outputId": "c9e0b88a-4be7-4240-9a98-4d5b3bd84f0a"
      },
      "outputs": [
        {
          "output_type": "execute_result",
          "data": {
            "text/plain": [
              "(7505, 2)"
            ]
          },
          "metadata": {},
          "execution_count": 5
        }
      ],
      "source": [
        "# Uploading ISEAR data\n",
        "file_path = \"/content/drive/My Drive/data/isear_3.txt\"\n",
        "ISEAR_data = pd.read_csv(file_path, delimiter=\"|\", header=0, on_bad_lines=\"skip\", engine=\"python\")\n",
        "\n",
        "# Select only Emotion and Text columns from original dataset\n",
        "ISEAR_data = ISEAR_data[['SIT', 'Field1']]\n",
        "ISEAR_data.columns = ['text', 'emotion']\n",
        "ISEAR_data.shape"
      ]
    },
    {
      "cell_type": "code",
      "execution_count": 6,
      "id": "aa15e2c1",
      "metadata": {
        "colab": {
          "base_uri": "https://localhost:8080/"
        },
        "id": "aa15e2c1",
        "outputId": "29e15d93-dfb1-49f4-eb9a-6b22cc3a2f2c"
      },
      "outputs": [
        {
          "output_type": "stream",
          "name": "stdout",
          "text": [
            "{'anger': 0, 'disgust': 1, 'fear': 2, 'guilt': 3, 'joy': 4, 'sadness': 5, 'shame': 6}\n"
          ]
        }
      ],
      "source": [
        "# Encoding emotions (from words to numbers)\n",
        "label_encoder = LabelEncoder()\n",
        "ISEAR_data['emotion_label'] = label_encoder.fit_transform(ISEAR_data['emotion'])\n",
        "print(dict(zip(label_encoder.classes_, label_encoder.transform(label_encoder.classes_))))"
      ]
    },
    {
      "cell_type": "code",
      "execution_count": 7,
      "id": "3eabb55f",
      "metadata": {
        "id": "3eabb55f"
      },
      "outputs": [],
      "source": [
        "# Defining number of classes and length of the sequence (if the sentence is shorter padding will be added)\n",
        "num_classes = 7\n",
        "max_sequence_length = 30"
      ]
    },
    {
      "cell_type": "code",
      "execution_count": 8,
      "id": "bc2a375d",
      "metadata": {
        "colab": {
          "base_uri": "https://localhost:8080/",
          "height": 564
        },
        "id": "bc2a375d",
        "outputId": "e554d1a0-c271-447e-8f65-62ef0af1dcc6"
      },
      "outputs": [
        {
          "output_type": "display_data",
          "data": {
            "text/plain": [
              "<Figure size 800x600 with 1 Axes>"
            ],
            "image/png": "[encoded data removed]"
          },
          "metadata": {}
        }
      ],
      "source": [
        "# Visualization of class distribution\n",
        "plt.figure(figsize=(8, 6))\n",
        "sns.countplot(x='emotion_label', data=ISEAR_data)\n",
        "plt.title('Distribucija klasa u ISEAR skupu podataka')\n",
        "plt.xlabel('Klasa')\n",
        "plt.ylabel('Broj uzoraka')\n",
        "plt.show()"
      ]
    },
    {
      "cell_type": "markdown",
      "id": "9a1785f5",
      "metadata": {
        "id": "9a1785f5"
      },
      "source": [
        "Classes are balanced..."
      ]
    },
    {
      "cell_type": "markdown",
      "id": "09f5c618",
      "metadata": {
        "id": "09f5c618"
      },
      "source": [
        "# Word2Vec Embeddings"
      ]
    },
    {
      "cell_type": "code",
      "execution_count": 9,
      "id": "5c9d0b62",
      "metadata": {
        "id": "5c9d0b62"
      },
      "outputs": [],
      "source": [
        "# Import of fine tuned word2vec model\n",
        "model_path_SG = \"/content/drive/My Drive/fine_tuned_word2vec_sg/fine_tuned_word2vec_sg.model\"\n",
        "model_path_CBOW = \"/content/drive/My Drive/fine_tuned_word2vec_cbow/fine_tuned_word2vec_cbow.model\"\n",
        "word2vec_model_SG = Word2Vec.load(model_path_SG)\n",
        "word2vec_model_CBOW = Word2Vec.load(model_path_CBOW)\n",
        "\n",
        "embedding_dim_SG = word2vec_model_SG.vector_size\n",
        "embedding_dim_CBOW = word2vec_model_CBOW.vector_size"
      ]
    },
    {
      "cell_type": "code",
      "execution_count": 10,
      "id": "64a86909",
      "metadata": {
        "id": "64a86909"
      },
      "outputs": [],
      "source": [
        "# Function for getting word2vec embeddings\n",
        "def get_word2vec_embeddings(sentence, model):\n",
        "    # Tokenization\n",
        "    sentence = sentence.lower()\n",
        "    words = sentence.split()\n",
        "    word_embeddings = [model.wv[word] for word in words if word in model.wv]\n",
        "\n",
        "    if not word_embeddings:  # If no words are in the vocabulary, return a zero vector\n",
        "        return []\n",
        "\n",
        "    return word_embeddings"
      ]
    },
    {
      "cell_type": "code",
      "execution_count": 11,
      "id": "8467d1af",
      "metadata": {
        "id": "8467d1af"
      },
      "outputs": [],
      "source": [
        "# Getting word2vec embeddings for each word in the sentence (except stowords)\n",
        "list_of_embeddings_CBOW = [\n",
        "   get_word2vec_embeddings(text, word2vec_model_CBOW)\n",
        "    for text in ISEAR_data['text']\n",
        "]\n",
        "\n",
        "list_of_embeddings_SG = [\n",
        "   get_word2vec_embeddings(text, word2vec_model_SG)\n",
        "    for text in ISEAR_data['text']\n",
        "]"
      ]
    },
    {
      "cell_type": "code",
      "execution_count": 12,
      "id": "41ffb79a",
      "metadata": {
        "id": "41ffb79a"
      },
      "outputs": [],
      "source": [
        "# Padding sequences to the same length -> adding zeroes to the sequences shorter than embedding_dim and cutting sequences longer than embedding_dim\n",
        "# Converting to NumPy array\n",
        "embeddings_CBOW = pad_sequences(\n",
        "    list_of_embeddings_CBOW,\n",
        "    maxlen = max_sequence_length,\n",
        "    dtype = 'float32',\n",
        "    padding = 'post',\n",
        "    truncating = 'post'\n",
        ")\n",
        "\n",
        "# print(embeddings_CBOW)"
      ]
    },
    {
      "cell_type": "code",
      "execution_count": 13,
      "id": "3fb574db",
      "metadata": {
        "id": "3fb574db"
      },
      "outputs": [],
      "source": [
        "# Padding sequences to the same length -> adding zeroes to the sequences shorter than embedding_dim and cutting sequences longer than embedding_dim\n",
        "# Converting to NumPy array\n",
        "embeddings_SG = pad_sequences(\n",
        "    list_of_embeddings_SG,\n",
        "    maxlen = max_sequence_length,\n",
        "    dtype = 'float32',\n",
        "    padding = 'post',\n",
        "    truncating = 'post'\n",
        ")\n",
        "\n",
        "# print(embeddings_SG)"
      ]
    },
    {
      "cell_type": "code",
      "execution_count": 14,
      "id": "622b2489",
      "metadata": {
        "colab": {
          "base_uri": "https://localhost:8080/"
        },
        "id": "622b2489",
        "outputId": "840d902a-a7b7-4c0a-aa14-76e6766ca48c"
      },
      "outputs": [
        {
          "output_type": "stream",
          "name": "stdout",
          "text": [
            "Dimensions of embeddings_CBOW: (7505, 30, 300)\n",
            "Dimensions of embeddings_SG: (7505, 30, 300)\n",
            "Dimensions of target value: (7505, 7)\n"
          ]
        }
      ],
      "source": [
        "# One-hot encoding of target values\n",
        "y = to_categorical(ISEAR_data['emotion_label'], num_classes=num_classes)\n",
        "y_original_labels = ISEAR_data['emotion_label'].values\n",
        "\n",
        "print(f\"Dimensions of embeddings_CBOW: {embeddings_CBOW.shape}\") # (number_of_examples, sequence_length, embedding_dim)\n",
        "print(f\"Dimensions of embeddings_SG: {embeddings_SG.shape}\") # (number_of_examples, sequence_length, embedding_dim)\n",
        "print(f\"Dimensions of target value: {y.shape}\") # (number_of_examples, num_classes)"
      ]
    },
    {
      "cell_type": "markdown",
      "id": "5ce781f5",
      "metadata": {
        "id": "5ce781f5"
      },
      "source": [
        "# RNN predictions for Word2Vec embeddings"
      ]
    },
    {
      "cell_type": "markdown",
      "id": "71d09564",
      "metadata": {
        "id": "71d09564"
      },
      "source": [
        "### Predictions for SG embeddings"
      ]
    },
    {
      "cell_type": "code",
      "execution_count": 15,
      "id": "3f94496e",
      "metadata": {
        "colab": {
          "base_uri": "https://localhost:8080/"
        },
        "id": "3f94496e",
        "outputId": "08da0dc3-a174-4c0b-f98a-03e60fb3eaeb"
      },
      "outputs": [
        {
          "output_type": "stream",
          "name": "stdout",
          "text": [
            "\n",
            "--- Training Fold 1/5 ---\n",
            "Epoch 15: early stopping\n",
            "Restoring model weights from the end of the best epoch: 10.\n",
            "   Fold 1 - Val Loss: 1.3507, Val Acc: 0.5383, Val Precision-macro: 0.5411, Val Recall-macro: 0.5383, Val F1-macro: 0.5377, Val AUC-macro: 0.8474\n",
            "\n",
            "--- Training Fold 2/5 ---\n",
            "Epoch 14: early stopping\n",
            "Restoring model weights from the end of the best epoch: 9.\n",
            "   Fold 2 - Val Loss: 1.3344, Val Acc: 0.5390, Val Precision-macro: 0.5538, Val Recall-macro: 0.5393, Val F1-macro: 0.5391, Val AUC-macro: 0.8466\n",
            "\n",
            "--- Training Fold 3/5 ---\n",
            "Epoch 15: early stopping\n",
            "Restoring model weights from the end of the best epoch: 10.\n",
            "   Fold 3 - Val Loss: 1.3778, Val Acc: 0.5250, Val Precision-macro: 0.5513, Val Recall-macro: 0.5251, Val F1-macro: 0.5283, Val AUC-macro: 0.8457\n",
            "\n",
            "--- Training Fold 4/5 ---\n",
            "Epoch 14: early stopping\n",
            "Restoring model weights from the end of the best epoch: 9.\n",
            "   Fold 4 - Val Loss: 1.2779, Val Acc: 0.5536, Val Precision-macro: 0.5604, Val Recall-macro: 0.5536, Val F1-macro: 0.5528, Val AUC-macro: 0.8583\n",
            "\n",
            "--- Training Fold 5/5 ---\n",
            "Epoch 13: early stopping\n",
            "Restoring model weights from the end of the best epoch: 8.\n",
            "   Fold 5 - Val Loss: 1.2938, Val Acc: 0.5383, Val Precision-macro: 0.5513, Val Recall-macro: 0.5385, Val F1-macro: 0.5382, Val AUC-macro: 0.8549\n"
          ]
        }
      ],
      "source": [
        "# Model parameters\n",
        "n_splits = 5 # 5-fold cross-validation\n",
        "skf = StratifiedKFold(n_splits=n_splits, shuffle=True, random_state=42)\n",
        "epochs = 50\n",
        "batch_size = 32\n",
        "lstm_units = 128\n",
        "dropout_rate = 0.3\n",
        "\n",
        "fold_accuracies = []\n",
        "fold_losses = []\n",
        "fold_f1_macros = []\n",
        "fold_auc_macros = []\n",
        "fold_precision_macros = []\n",
        "fold_recall_macros = []\n",
        "\n",
        "for fold, (train_index, val_index) in enumerate(skf.split(embeddings_SG, y_original_labels)):\n",
        "    print(f\"\\n--- Training Fold {fold + 1}/{n_splits} ---\")\n",
        "\n",
        "    X_train_fold, X_val_fold = embeddings_SG[train_index], embeddings_SG[val_index]\n",
        "    y_train_fold, y_val_fold = y[train_index], y[val_index]\n",
        "\n",
        "    clear_session() # Reseting Keras session to build new model\n",
        "\n",
        "    # Building an LSTM Bidirectional model\n",
        "    model = Sequential()\n",
        "    model.add(Input(shape=(max_sequence_length, embedding_dim_SG)))\n",
        "    model.add(Bidirectional(LSTM(lstm_units, return_sequences=False)))\n",
        "    model.add(Dropout(dropout_rate))\n",
        "    model.add(Dense(64, activation='relu'))\n",
        "    model.add(Dropout(dropout_rate))\n",
        "    model.add(Dense(num_classes, activation='softmax'))\n",
        "\n",
        "    model.compile(optimizer='adam',\n",
        "                  loss='categorical_crossentropy',\n",
        "                  metrics=['accuracy'])\n",
        "\n",
        "    # EarlyStopping Callback - to prevent model of overfitting\n",
        "    early_stopping_callback = EarlyStopping(\n",
        "        monitor='val_accuracy', # We are tracking validation accuracy\n",
        "        patience=5,             # The training stops if the val_accuracy doesn't get better after 5 epochs\n",
        "        restore_best_weights=True,\n",
        "        mode='max',             # Maximizing accuracy\n",
        "        verbose=1\n",
        "    )\n",
        "\n",
        "    # Training the model\n",
        "    history = model.fit(\n",
        "        X_train_fold, y_train_fold,\n",
        "        epochs=50,   # trining in 50 epochs (we assume early stopping call back will end the training before)\n",
        "        batch_size=batch_size,\n",
        "        validation_data=(X_val_fold, y_val_fold),\n",
        "        callbacks=[early_stopping_callback],\n",
        "        verbose=0\n",
        "    )\n",
        "\n",
        "    # Evaluating the model\n",
        "    loss, accuracy = model.evaluate(X_val_fold, y_val_fold, verbose=0)\n",
        "    fold_losses.append(loss)\n",
        "    fold_accuracies.append(accuracy)\n",
        "\n",
        "    y_pred_probs_fold = model.predict(X_val_fold, verbose=0)\n",
        "    y_pred_classes_fold = np.argmax(y_pred_probs_fold, axis=1)\n",
        "    y_true_classes_fold = np.argmax(y_val_fold, axis=1)\n",
        "\n",
        "    precision_macro_fold = precision_score(y_true_classes_fold, y_pred_classes_fold, average='macro', zero_division=0)\n",
        "    recall_macro_fold = recall_score(y_true_classes_fold, y_pred_classes_fold, average='macro', zero_division=0)\n",
        "\n",
        "    fold_precision_macros.append(precision_macro_fold)\n",
        "    fold_recall_macros.append(recall_macro_fold)\n",
        "\n",
        "    f1_macro_fold = f1_score(y_true_classes_fold, y_pred_classes_fold, average='macro', zero_division=0)\n",
        "    fold_f1_macros.append(f1_macro_fold)\n",
        "\n",
        "    try:\n",
        "        auc_macro_fold = roc_auc_score(y_true_classes_fold, y_pred_probs_fold, multi_class='ovr', average='macro')\n",
        "        fold_auc_macros.append(auc_macro_fold)\n",
        "    except ValueError as e:\n",
        "        fold_auc_macros.append(np.nan)\n",
        "\n",
        "    # Printing results for the current fold\n",
        "    print(f\"   Fold {fold + 1} - Val Loss: {loss:.4f}, Val Acc: {accuracy:.4f}, Val Precision-macro: {precision_macro_fold:.4f}, Val Recall-macro: {recall_macro_fold:.4f}, Val F1-macro: {f1_macro_fold:.4f}, Val AUC-macro: {fold_auc_macros[-1]:.4f}\")"
      ]
    },
    {
      "cell_type": "code",
      "execution_count": 16,
      "id": "0e0d85ef",
      "metadata": {
        "colab": {
          "base_uri": "https://localhost:8080/"
        },
        "id": "0e0d85ef",
        "outputId": "64e373c5-588f-4211-8272-d9c856740db9"
      },
      "outputs": [
        {
          "output_type": "stream",
          "name": "stdout",
          "text": [
            "\n",
            "--- Average cross validation results for Word2Vec SG embeddings ---\n",
            "Val Loss: 1.3269 +/- 0.0366\n",
            "Val Accuracy: 0.5388 +/- 0.0091\n",
            "Val Precision-macro: 0.5516 +/- 0.0062\n",
            "Val Recall-macro: 0.5390 +/- 0.0090\n",
            "Val F1-macro: 0.5392 +/- 0.0078\n",
            "Val AUC-macro: 0.8506 +/- 0.0051\n"
          ]
        }
      ],
      "source": [
        "# Calculation of average results across all folds +/ std.dev\n",
        "print(\"\\n--- Average cross validation results for Word2Vec SG embeddings ---\")\n",
        "print(f\"Val Loss: {np.mean(fold_losses):.4f} +/- {np.std(fold_losses):.4f}\")\n",
        "print(f\"Val Accuracy: {np.mean(fold_accuracies):.4f} +/- {np.std(fold_accuracies):.4f}\")\n",
        "print(f\"Val Precision-macro: {np.mean(fold_precision_macros):.4f} +/- {np.std(fold_precision_macros):.4f}\")\n",
        "print(f\"Val Recall-macro: {np.mean(fold_recall_macros):.4f} +/- {np.std(fold_recall_macros):.4f}\")\n",
        "print(f\"Val F1-macro: {np.mean(fold_f1_macros):.4f} +/- {np.std(fold_f1_macros):.4f}\")\n",
        "print(f\"Val AUC-macro: {np.nanmean(fold_auc_macros):.4f} +/- {np.nanstd(fold_auc_macros):.4f}\")"
      ]
    },
    {
      "cell_type": "markdown",
      "id": "e020a5a9",
      "metadata": {
        "id": "e020a5a9"
      },
      "source": [
        "### Predictions for CBOW embeddings"
      ]
    },
    {
      "cell_type": "code",
      "execution_count": 17,
      "id": "3160b1d1",
      "metadata": {
        "colab": {
          "base_uri": "https://localhost:8080/"
        },
        "id": "3160b1d1",
        "outputId": "69789754-bd47-47d1-8b7b-53966273ecf5"
      },
      "outputs": [
        {
          "output_type": "stream",
          "name": "stdout",
          "text": [
            "\n",
            "--- Training Fold 1/5 ---\n",
            "Epoch 10: early stopping\n",
            "Restoring model weights from the end of the best epoch: 5.\n",
            "   Fold 1 - Val Loss: 1.4269, Val Acc: 0.5010, Val Precision-macro: 0.5106, Val Recall-macro: 0.5010, Val F1-macro: 0.4982, Val AUC-macro: 0.8251\n",
            "\n",
            "--- Training Fold 2/5 ---\n",
            "Epoch 13: early stopping\n",
            "Restoring model weights from the end of the best epoch: 8.\n",
            "   Fold 2 - Val Loss: 1.5808, Val Acc: 0.5310, Val Precision-macro: 0.5381, Val Recall-macro: 0.5311, Val F1-macro: 0.5291, Val AUC-macro: 0.8309\n",
            "\n",
            "--- Training Fold 3/5 ---\n",
            "Epoch 13: early stopping\n",
            "Restoring model weights from the end of the best epoch: 8.\n",
            "   Fold 3 - Val Loss: 1.5612, Val Acc: 0.5037, Val Precision-macro: 0.5018, Val Recall-macro: 0.5040, Val F1-macro: 0.5008, Val AUC-macro: 0.8203\n",
            "\n",
            "--- Training Fold 4/5 ---\n",
            "Epoch 11: early stopping\n",
            "Restoring model weights from the end of the best epoch: 6.\n",
            "   Fold 4 - Val Loss: 1.3899, Val Acc: 0.5203, Val Precision-macro: 0.5241, Val Recall-macro: 0.5204, Val F1-macro: 0.5203, Val AUC-macro: 0.8386\n",
            "\n",
            "--- Training Fold 5/5 ---\n",
            "Epoch 9: early stopping\n",
            "Restoring model weights from the end of the best epoch: 4.\n",
            "   Fold 5 - Val Loss: 1.3959, Val Acc: 0.5117, Val Precision-macro: 0.5179, Val Recall-macro: 0.5119, Val F1-macro: 0.5122, Val AUC-macro: 0.8263\n"
          ]
        }
      ],
      "source": [
        "# Model parameters\n",
        "n_splits = 5 # 5-fold cross-validation\n",
        "skf = StratifiedKFold(n_splits=n_splits, shuffle=True, random_state=42)\n",
        "epochs = 50\n",
        "batch_size = 32\n",
        "lstm_units = 128\n",
        "dropout_rate = 0.3\n",
        "\n",
        "fold_accuracies = []\n",
        "fold_losses = []\n",
        "fold_f1_macros = []\n",
        "fold_auc_macros = []\n",
        "fold_precision_macros = []\n",
        "fold_recall_macros = []\n",
        "\n",
        "for fold, (train_index, val_index) in enumerate(skf.split(embeddings_CBOW, y_original_labels)):\n",
        "    print(f\"\\n--- Training Fold {fold + 1}/{n_splits} ---\")\n",
        "\n",
        "    X_train_fold, X_val_fold = embeddings_CBOW[train_index], embeddings_CBOW[val_index]\n",
        "    y_train_fold, y_val_fold = y[train_index], y[val_index]\n",
        "\n",
        "    clear_session() # Reseting Keras session to build new model\n",
        "\n",
        "    # Building an LSTM Bidirectional model\n",
        "    model = Sequential()\n",
        "    model.add(Input(shape=(max_sequence_length, embedding_dim_CBOW)))\n",
        "    model.add(Bidirectional(LSTM(lstm_units, return_sequences=False)))\n",
        "    model.add(Dropout(dropout_rate))\n",
        "    model.add(Dense(64, activation='relu'))\n",
        "    model.add(Dropout(dropout_rate))\n",
        "    model.add(Dense(num_classes, activation='softmax'))\n",
        "\n",
        "    model.compile(optimizer='adam',\n",
        "                  loss='categorical_crossentropy',\n",
        "                  metrics=['accuracy'])\n",
        "\n",
        "    # EarlyStopping Callback - to prevent model of overfitting\n",
        "    early_stopping_callback = EarlyStopping(\n",
        "        monitor='val_accuracy', # We are tracking validation accuracy\n",
        "        patience=5,             # The training stops if the val_accuracy doesn't get better after 5 epochs\n",
        "        restore_best_weights=True,\n",
        "        mode='max',             # Maximizing accuracy\n",
        "        verbose=1\n",
        "    )\n",
        "\n",
        "    # Training the model\n",
        "    history = model.fit(\n",
        "        X_train_fold, y_train_fold,\n",
        "        epochs=50,   # trining in 50 epochs (we assume early stopping call back will end the training before)\n",
        "        batch_size=batch_size,\n",
        "        validation_data=(X_val_fold, y_val_fold),\n",
        "        callbacks=[early_stopping_callback],\n",
        "        verbose=0\n",
        "    )\n",
        "\n",
        "    # Evaluating the model\n",
        "    loss, accuracy = model.evaluate(X_val_fold, y_val_fold, verbose=0)\n",
        "    fold_losses.append(loss)\n",
        "    fold_accuracies.append(accuracy)\n",
        "\n",
        "    y_pred_probs_fold = model.predict(X_val_fold, verbose=0)\n",
        "    y_pred_classes_fold = np.argmax(y_pred_probs_fold, axis=1)\n",
        "    y_true_classes_fold = np.argmax(y_val_fold, axis=1)\n",
        "\n",
        "    precision_macro_fold = precision_score(y_true_classes_fold, y_pred_classes_fold, average='macro', zero_division=0)\n",
        "    recall_macro_fold = recall_score(y_true_classes_fold, y_pred_classes_fold, average='macro', zero_division=0)\n",
        "\n",
        "    fold_precision_macros.append(precision_macro_fold)\n",
        "    fold_recall_macros.append(recall_macro_fold)\n",
        "\n",
        "    f1_macro_fold = f1_score(y_true_classes_fold, y_pred_classes_fold, average='macro', zero_division=0)\n",
        "    fold_f1_macros.append(f1_macro_fold)\n",
        "\n",
        "    try:\n",
        "        auc_macro_fold = roc_auc_score(y_true_classes_fold, y_pred_probs_fold, multi_class='ovr', average='macro')\n",
        "        fold_auc_macros.append(auc_macro_fold)\n",
        "    except ValueError as e:\n",
        "        fold_auc_macros.append(np.nan)\n",
        "\n",
        "    # Printing results for the current fold\n",
        "    print(f\"   Fold {fold + 1} - Val Loss: {loss:.4f}, Val Acc: {accuracy:.4f}, Val Precision-macro: {precision_macro_fold:.4f}, Val Recall-macro: {recall_macro_fold:.4f}, Val F1-macro: {f1_macro_fold:.4f}, Val AUC-macro: {fold_auc_macros[-1]:.4f}\")"
      ]
    },
    {
      "cell_type": "code",
      "execution_count": 18,
      "id": "1b6f0222",
      "metadata": {
        "colab": {
          "base_uri": "https://localhost:8080/"
        },
        "id": "1b6f0222",
        "outputId": "6c2277a2-651e-42ac-ee22-4be8dcecfa93"
      },
      "outputs": [
        {
          "output_type": "stream",
          "name": "stdout",
          "text": [
            "\n",
            "--- Average cross validation results for Word2Vec CBOW embeddings ---\n",
            "Val Loss: 1.4709 +/- 0.0829\n",
            "Val Accuracy: 0.5135 +/- 0.0110\n",
            "Val Precision-macro: 0.5185 +/- 0.0123\n",
            "Val Recall-macro: 0.5137 +/- 0.0110\n",
            "Val F1-macro: 0.5121 +/- 0.0116\n",
            "Val AUC-macro: 0.8282 +/- 0.0062\n"
          ]
        }
      ],
      "source": [
        "# Calculation of average results across all folds +/ std.dev\n",
        "print(\"\\n--- Average cross validation results for Word2Vec CBOW embeddings ---\")\n",
        "print(f\"Val Loss: {np.mean(fold_losses):.4f} +/- {np.std(fold_losses):.4f}\")\n",
        "print(f\"Val Accuracy: {np.mean(fold_accuracies):.4f} +/- {np.std(fold_accuracies):.4f}\")\n",
        "print(f\"Val Precision-macro: {np.mean(fold_precision_macros):.4f} +/- {np.std(fold_precision_macros):.4f}\")\n",
        "print(f\"Val Recall-macro: {np.mean(fold_recall_macros):.4f} +/- {np.std(fold_recall_macros):.4f}\")\n",
        "print(f\"Val F1-macro: {np.mean(fold_f1_macros):.4f} +/- {np.std(fold_f1_macros):.4f}\")\n",
        "print(f\"Val AUC-macro: {np.nanmean(fold_auc_macros):.4f} +/- {np.nanstd(fold_auc_macros):.4f}\")"
      ]
    },
    {
      "cell_type": "markdown",
      "id": "d49afe98",
      "metadata": {
        "id": "d49afe98"
      },
      "source": [
        "# BERT Embeddings"
      ]
    },
    {
      "cell_type": "code",
      "execution_count": 19,
      "id": "c5e6a454",
      "metadata": {
        "id": "c5e6a454"
      },
      "outputs": [],
      "source": [
        "# Import of fine tuned bert model\n",
        "model_path = \"/content/drive/My Drive/fine_tuned_bert\"\n",
        "bert_tokenizer = BertTokenizer.from_pretrained(model_path)\n",
        "bert_model = BertForMaskedLM.from_pretrained(model_path)\n",
        "embedding_dim_bert = bert_model.config.hidden_size"
      ]
    },
    {
      "cell_type": "code",
      "execution_count": 20,
      "id": "bc265cb3",
      "metadata": {
        "id": "bc265cb3"
      },
      "outputs": [],
      "source": [
        "# Function for getting bert embeddings\n",
        "def get_bert_embeddings(sentence, bert_model, bert_tokenizer, max_sequence_length_for_lstm):\n",
        "\n",
        "    padding_zeroes = np.zeros(embedding_dim_bert, dtype=np.float32) # used to pad sequences shorter than sequence_length (50)\n",
        "\n",
        "    inputs = bert_tokenizer(\n",
        "        sentence,\n",
        "        return_tensors='pt',\n",
        "        truncation=True\n",
        "    )\n",
        "\n",
        "    device = torch.device('cuda' if torch.cuda.is_available() else 'cpu')\n",
        "    bert_model.to(device)\n",
        "    inputs = {k: v.to(device) for k, v in inputs.items()}\n",
        "\n",
        "    with torch.no_grad():\n",
        "        outputs = bert_model(\n",
        "            input_ids=inputs['input_ids'],\n",
        "            attention_mask=inputs.get('attention_mask', None),\n",
        "            token_type_ids=inputs.get('token_type_ids', None),\n",
        "            output_hidden_states=True\n",
        "        )\n",
        "\n",
        "    # Get the last hidden state (token embeddings)\n",
        "    token_embeddings_np = outputs.hidden_states[-1].squeeze(0).cpu().numpy()\n",
        "    input_ids = inputs['input_ids'].squeeze(0).cpu().numpy()\n",
        "\n",
        "    # Filter out special tokens and empty strings\n",
        "    filtered_embeddings_list = []\n",
        "    for i, token_id in enumerate(input_ids):\n",
        "        token_str = bert_tokenizer.decode(token_id)\n",
        "\n",
        "        if token_str in bert_tokenizer.all_special_tokens or not token_str.strip():\n",
        "            continue\n",
        "\n",
        "        filtered_embeddings_list.append(token_embeddings_np[i])\n",
        "\n",
        "    current_len = len(filtered_embeddings_list)\n",
        "\n",
        "    if current_len == 0:\n",
        "        return np.full((max_sequence_length_for_lstm, embedding_dim_bert), padding_zeroes, dtype=np.float32)\n",
        "\n",
        "    # Initialize the final embeddings array with padding zeroes\n",
        "    final_embeddings_array = np.full((max_sequence_length_for_lstm, embedding_dim_bert), padding_zeroes, dtype=np.float32)\n",
        "\n",
        "    # If the current length is greater than or equal to the max sequence length (50), truncate the list\n",
        "    # else, fill the array with the available embeddings\n",
        "    if current_len >= max_sequence_length_for_lstm:\n",
        "        final_embeddings_array = np.array(filtered_embeddings_list[:max_sequence_length_for_lstm], dtype=np.float32)\n",
        "    else:\n",
        "        final_embeddings_array[:current_len] = np.array(filtered_embeddings_list, dtype=np.float32)\n",
        "\n",
        "    return final_embeddings_array"
      ]
    },
    {
      "cell_type": "code",
      "execution_count": 21,
      "id": "4b0f8a00",
      "metadata": {
        "id": "4b0f8a00"
      },
      "outputs": [],
      "source": [
        "# Getting bert embeddings for each word in the sentence\n",
        "list_of_embeddings_BERT = [\n",
        "   get_bert_embeddings(text, bert_model, bert_tokenizer, max_sequence_length)\n",
        "    for text in ISEAR_data['text']\n",
        "]"
      ]
    },
    {
      "cell_type": "code",
      "execution_count": 22,
      "id": "8a6e350c",
      "metadata": {
        "id": "8a6e350c"
      },
      "outputs": [],
      "source": [
        "# Padding sequences to the same length -> adding zeroes to the sequences shorter than embedding_dim and cutting sequences longer than embedding_dim\n",
        "# Converting to NumPy array\n",
        "embeddings_BERT = pad_sequences(\n",
        "    list_of_embeddings_BERT,\n",
        "    maxlen = max_sequence_length,\n",
        "    dtype = 'float32',\n",
        "    padding = 'post',\n",
        "    truncating = 'post'\n",
        ")\n",
        "\n",
        "# print (embeddings_BERT)"
      ]
    },
    {
      "cell_type": "code",
      "execution_count": 23,
      "id": "de4ea499",
      "metadata": {
        "colab": {
          "base_uri": "https://localhost:8080/"
        },
        "id": "de4ea499",
        "outputId": "2487fdcc-4c8a-4c76-e6e7-98f1991c12ce"
      },
      "outputs": [
        {
          "output_type": "stream",
          "name": "stdout",
          "text": [
            "\n",
            "Dimensions of embeddings_BERT: (7505, 30, 768)\n",
            "Dimensions of target value: (7505, 7)\n"
          ]
        }
      ],
      "source": [
        "# One-hot encoding of target values\n",
        "y = to_categorical(ISEAR_data['emotion_label'], num_classes=num_classes)\n",
        "\n",
        "print(f\"\\nDimensions of embeddings_BERT: {embeddings_BERT.shape}\") # (number_of_examples, sequence_length, embedding_dim)\n",
        "print(f\"Dimensions of target value: {y.shape}\") # (number_of_examples, num_classes)"
      ]
    },
    {
      "cell_type": "markdown",
      "id": "1dc2d0dc",
      "metadata": {
        "id": "1dc2d0dc"
      },
      "source": [
        "# RNN predictions for BERT Embeddings"
      ]
    },
    {
      "cell_type": "code",
      "execution_count": 24,
      "id": "a5f360f6",
      "metadata": {
        "colab": {
          "base_uri": "https://localhost:8080/"
        },
        "id": "a5f360f6",
        "outputId": "ce4bd053-8cfd-4dec-ddfa-108d33a4b43e"
      },
      "outputs": [
        {
          "output_type": "stream",
          "name": "stdout",
          "text": [
            "\n",
            "--- Training Fold 1/5 ---\n",
            "Epoch 13: early stopping\n",
            "Restoring model weights from the end of the best epoch: 8.\n",
            "   Fold 1 - Val Loss: 1.2539, Val Acc: 0.6203, Val Precision-macro: 0.6190, Val Recall-macro: 0.6204, Val F1-macro: 0.6170, Val AUC-macro: 0.8934\n",
            "\n",
            "--- Training Fold 2/5 ---\n",
            "Epoch 10: early stopping\n",
            "Restoring model weights from the end of the best epoch: 5.\n",
            "   Fold 2 - Val Loss: 1.1440, Val Acc: 0.6129, Val Precision-macro: 0.6184, Val Recall-macro: 0.6127, Val F1-macro: 0.6098, Val AUC-macro: 0.8922\n",
            "\n",
            "--- Training Fold 3/5 ---\n",
            "Epoch 12: early stopping\n",
            "Restoring model weights from the end of the best epoch: 7.\n",
            "   Fold 3 - Val Loss: 1.0828, Val Acc: 0.6482, Val Precision-macro: 0.6478, Val Recall-macro: 0.6486, Val F1-macro: 0.6453, Val AUC-macro: 0.9054\n",
            "\n",
            "--- Training Fold 4/5 ---\n",
            "Epoch 12: early stopping\n",
            "Restoring model weights from the end of the best epoch: 7.\n",
            "   Fold 4 - Val Loss: 1.1946, Val Acc: 0.6243, Val Precision-macro: 0.6234, Val Recall-macro: 0.6246, Val F1-macro: 0.6221, Val AUC-macro: 0.8954\n",
            "\n",
            "--- Training Fold 5/5 ---\n",
            "Epoch 12: early stopping\n",
            "Restoring model weights from the end of the best epoch: 7.\n",
            "   Fold 5 - Val Loss: 1.1202, Val Acc: 0.6189, Val Precision-macro: 0.6280, Val Recall-macro: 0.6192, Val F1-macro: 0.6191, Val AUC-macro: 0.8998\n"
          ]
        }
      ],
      "source": [
        "# Model parameters\n",
        "n_splits = 5 # 5-fold cross-validation\n",
        "skf = StratifiedKFold(n_splits=n_splits, shuffle=True, random_state=42)\n",
        "epochs = 50\n",
        "batch_size = 32\n",
        "lstm_units = 128\n",
        "dropout_rate = 0.3\n",
        "\n",
        "fold_accuracies = []\n",
        "fold_losses = []\n",
        "fold_f1_macros = []\n",
        "fold_auc_macros = []\n",
        "fold_precision_macros = []\n",
        "fold_recall_macros = []\n",
        "\n",
        "for fold, (train_index, val_index) in enumerate(skf.split(embeddings_BERT, y_original_labels)):\n",
        "    print(f\"\\n--- Training Fold {fold + 1}/{n_splits} ---\")\n",
        "\n",
        "    X_train_fold, X_val_fold = embeddings_BERT[train_index], embeddings_BERT[val_index]\n",
        "    y_train_fold, y_val_fold = y[train_index], y[val_index]\n",
        "\n",
        "    clear_session() # Reseting Keras session to build new model\n",
        "\n",
        "    # Building an LSTM Bidirectional model\n",
        "    model = Sequential()\n",
        "    model.add(Input(shape=(max_sequence_length, embedding_dim_bert)))\n",
        "    model.add(Bidirectional(LSTM(lstm_units, return_sequences=False)))\n",
        "    model.add(Dropout(dropout_rate))\n",
        "    model.add(Dense(64, activation='relu'))\n",
        "    model.add(Dropout(dropout_rate))\n",
        "    model.add(Dense(num_classes, activation='softmax'))\n",
        "\n",
        "    model.compile(optimizer='adam',\n",
        "                  loss='categorical_crossentropy',\n",
        "                  metrics=['accuracy'])\n",
        "\n",
        "    # EarlyStopping Callback - to prevent model of overfitting\n",
        "    early_stopping_callback = EarlyStopping(\n",
        "        monitor='val_accuracy', # We are tracking validation accuracy\n",
        "        patience=5,             # The training stops if the val_accuracy doesn't get better after 5 epochs\n",
        "        restore_best_weights=True,\n",
        "        mode='max',             # Maximizing accuracy\n",
        "        verbose=1\n",
        "    )\n",
        "\n",
        "    # Training the model\n",
        "    history = model.fit(\n",
        "        X_train_fold, y_train_fold,\n",
        "        epochs=50,   # trining in 50 epochs (we assume early stopping call back will end the training before)\n",
        "        batch_size=batch_size,\n",
        "        validation_data=(X_val_fold, y_val_fold),\n",
        "        callbacks=[early_stopping_callback],\n",
        "        verbose=0\n",
        "    )\n",
        "\n",
        "    # Evaluating the model\n",
        "    loss, accuracy = model.evaluate(X_val_fold, y_val_fold, verbose=0)\n",
        "    fold_losses.append(loss)\n",
        "    fold_accuracies.append(accuracy)\n",
        "\n",
        "    y_pred_probs_fold = model.predict(X_val_fold, verbose=0)\n",
        "    y_pred_classes_fold = np.argmax(y_pred_probs_fold, axis=1)\n",
        "    y_true_classes_fold = np.argmax(y_val_fold, axis=1)\n",
        "\n",
        "    precision_macro_fold = precision_score(y_true_classes_fold, y_pred_classes_fold, average='macro', zero_division=0)\n",
        "    recall_macro_fold = recall_score(y_true_classes_fold, y_pred_classes_fold, average='macro', zero_division=0)\n",
        "\n",
        "    fold_precision_macros.append(precision_macro_fold)\n",
        "    fold_recall_macros.append(recall_macro_fold)\n",
        "\n",
        "    f1_macro_fold = f1_score(y_true_classes_fold, y_pred_classes_fold, average='macro', zero_division=0)\n",
        "    fold_f1_macros.append(f1_macro_fold)\n",
        "\n",
        "    try:\n",
        "        auc_macro_fold = roc_auc_score(y_true_classes_fold, y_pred_probs_fold, multi_class='ovr', average='macro')\n",
        "        fold_auc_macros.append(auc_macro_fold)\n",
        "    except ValueError as e:\n",
        "        fold_auc_macros.append(np.nan)\n",
        "\n",
        "    # Printing results for the current fold\n",
        "    print(f\"   Fold {fold + 1} - Val Loss: {loss:.4f}, Val Acc: {accuracy:.4f}, Val Precision-macro: {precision_macro_fold:.4f}, Val Recall-macro: {recall_macro_fold:.4f}, Val F1-macro: {f1_macro_fold:.4f}, Val AUC-macro: {fold_auc_macros[-1]:.4f}\")"
      ]
    },
    {
      "cell_type": "code",
      "execution_count": 25,
      "id": "33ebdc48",
      "metadata": {
        "colab": {
          "base_uri": "https://localhost:8080/"
        },
        "id": "33ebdc48",
        "outputId": "d213f497-cc92-4a4e-d4d9-085a68acb7a9"
      },
      "outputs": [
        {
          "output_type": "stream",
          "name": "stdout",
          "text": [
            "\n",
            "--- Average cross validation results for Word2Vec BERT embeddings ---\n",
            "Val Loss: 1.1591 +/- 0.0597\n",
            "Val Accuracy: 0.6249 +/- 0.0122\n",
            "Val Precision-macro: 0.6273 +/- 0.0108\n",
            "Val Recall-macro: 0.6251 +/- 0.0124\n",
            "Val F1-macro: 0.6227 +/- 0.0120\n",
            "Val AUC-macro: 0.8972 +/- 0.0048\n"
          ]
        }
      ],
      "source": [
        "# Calculation of average results across all folds +/ std.dev\n",
        "print(\"\\n--- Average cross validation results for Word2Vec BERT embeddings ---\")\n",
        "print(f\"Val Loss: {np.mean(fold_losses):.4f} +/- {np.std(fold_losses):.4f}\")\n",
        "print(f\"Val Accuracy: {np.mean(fold_accuracies):.4f} +/- {np.std(fold_accuracies):.4f}\")\n",
        "print(f\"Val Precision-macro: {np.mean(fold_precision_macros):.4f} +/- {np.std(fold_precision_macros):.4f}\")\n",
        "print(f\"Val Recall-macro: {np.mean(fold_recall_macros):.4f} +/- {np.std(fold_recall_macros):.4f}\")\n",
        "print(f\"Val F1-macro: {np.mean(fold_f1_macros):.4f} +/- {np.std(fold_f1_macros):.4f}\")\n",
        "print(f\"Val AUC-macro: {np.nanmean(fold_auc_macros):.4f} +/- {np.nanstd(fold_auc_macros):.4f}\")"
      ]
    }
  ],
  "metadata": {
    "kernelspec": {
      "display_name": "Python 3",
      "name": "python3"
    },
    "language_info": {
      "codemirror_mode": {
        "name": "ipython",
        "version": 3
      },
      "file_extension": ".py",
      "mimetype": "text/x-python",
      "name": "python",
      "nbconvert_exporter": "python",
      "pygments_lexer": "ipython3",
      "version": "3.12.2"
    },
    "colab": {
      "provenance": [],
      "machine_shape": "hm",
      "gpuType": "T4"
    },
    "accelerator": "GPU"
  },
  "nbformat": 4,
  "nbformat_minor": 5
}